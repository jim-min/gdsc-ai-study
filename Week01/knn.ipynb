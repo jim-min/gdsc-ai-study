{
  "cells": [
    {
      "cell_type": "markdown",
      "metadata": {
        "id": "view-in-github",
        "colab_type": "text"
      },
      "source": [
        "<a href=\"https://colab.research.google.com/github/jim-min/gdsc-ai-study/blob/main/Week01/knn.ipynb\" target=\"_parent\"><img src=\"https://colab.research.google.com/assets/colab-badge.svg\" alt=\"Open In Colab\"/></a>"
      ]
    },
    {
      "cell_type": "markdown",
      "id": "92445c44",
      "metadata": {
        "id": "92445c44"
      },
      "source": [
        "# **GDG 인공지능 기초 1주차 과제**"
      ]
    },
    {
      "cell_type": "markdown",
      "id": "bfa6f75c",
      "metadata": {
        "id": "bfa6f75c"
      },
      "source": [
        "## **<span style=\"color:green\"> [ 실습 ] </span> KNN**\n",
        "수업 때 했던 KNN 내용을 떠올리며 실습을 진행해봅시다!"
      ]
    },
    {
      "cell_type": "markdown",
      "id": "e259302b",
      "metadata": {
        "id": "e259302b"
      },
      "source": [
        "**<span style=\"color:red\"> 1. </span>** 우선 실습에 필요한 모듈을 다운 받고, 기본적인 설정을 해줍니다다."
      ]
    },
    {
      "cell_type": "code",
      "execution_count": null,
      "id": "a6c00d93",
      "metadata": {
        "colab": {
          "base_uri": "https://localhost:8080/"
        },
        "id": "a6c00d93",
        "outputId": "abc75d04-ece3-4793-f12b-e977ed2bed58"
      },
      "outputs": [
        {
          "output_type": "stream",
          "name": "stdout",
          "text": [
            "Requirement already satisfied: torch in /usr/local/lib/python3.11/dist-packages (2.6.0+cpu)\n",
            "Requirement already satisfied: torchvision in /usr/local/lib/python3.11/dist-packages (0.21.0+cpu)\n",
            "Requirement already satisfied: filelock in /usr/local/lib/python3.11/dist-packages (from torch) (3.18.0)\n",
            "Requirement already satisfied: typing-extensions>=4.10.0 in /usr/local/lib/python3.11/dist-packages (from torch) (4.13.0)\n",
            "Requirement already satisfied: networkx in /usr/local/lib/python3.11/dist-packages (from torch) (3.4.2)\n",
            "Requirement already satisfied: jinja2 in /usr/local/lib/python3.11/dist-packages (from torch) (3.1.6)\n",
            "Requirement already satisfied: fsspec in /usr/local/lib/python3.11/dist-packages (from torch) (2025.3.2)\n",
            "Requirement already satisfied: sympy==1.13.1 in /usr/local/lib/python3.11/dist-packages (from torch) (1.13.1)\n",
            "Requirement already satisfied: mpmath<1.4,>=1.1.0 in /usr/local/lib/python3.11/dist-packages (from sympy==1.13.1->torch) (1.3.0)\n",
            "Requirement already satisfied: numpy in /usr/local/lib/python3.11/dist-packages (from torchvision) (2.0.2)\n",
            "Requirement already satisfied: pillow!=8.3.*,>=5.3.0 in /usr/local/lib/python3.11/dist-packages (from torchvision) (11.2.0)\n",
            "Requirement already satisfied: MarkupSafe>=2.0 in /usr/local/lib/python3.11/dist-packages (from jinja2->torch) (3.0.2)\n",
            "Requirement already satisfied: numpy in /usr/local/lib/python3.11/dist-packages (2.0.2)\n"
          ]
        }
      ],
      "source": [
        "!pip install torch torchvision\n",
        "!pip install numpy"
      ]
    },
    {
      "cell_type": "code",
      "execution_count": 4,
      "id": "40e068ed",
      "metadata": {
        "id": "40e068ed",
        "tags": [
          "pdf-ignore"
        ]
      },
      "outputs": [],
      "source": [
        "import random\n",
        "import matplotlib.pyplot as plt\n",
        "import torch\n",
        "import torchvision\n",
        "import numpy as np\n",
        "\n",
        "%matplotlib inline\n",
        "plt.rcParams['figure.figsize'] = (10.0, 8.0)\n",
        "plt.rcParams['image.interpolation'] = 'nearest'\n",
        "plt.rcParams['image.cmap'] = 'gray'\n",
        "\n",
        "%load_ext autoreload\n",
        "%autoreload 2"
      ]
    },
    {
      "cell_type": "markdown",
      "id": "62f323c4",
      "metadata": {
        "id": "62f323c4"
      },
      "source": [
        "**<span style=\"color:red\"> 2. </span>** 실습에 사용할 데이터 셋을 받아옵니다.  \n",
        "    우리가 사용할 데이터는 cifar-10이라는 총 10 종류의 다양한 이미지들이 있는 데이터 입니다."
      ]
    },
    {
      "cell_type": "code",
      "execution_count": 14,
      "id": "e9470bcd",
      "metadata": {
        "colab": {
          "base_uri": "https://localhost:8080/"
        },
        "id": "e9470bcd",
        "outputId": "5de4d475-dc7a-41a8-b46e-e4d4cb856b1b",
        "tags": [
          "pdf-ignore"
        ]
      },
      "outputs": [
        {
          "output_type": "stream",
          "name": "stdout",
          "text": [
            "Train X shape: (50000, 32, 32, 3), Train Y shape: (50000,)\n",
            "Test X shape: (10000, 32, 32, 3), Test Y shape: (10000,)\n"
          ]
        }
      ],
      "source": [
        "# CIFAR-10 데이터셋 로드\n",
        "train_dataset = torchvision.datasets.CIFAR10(root=\"./data\", train=True, download=True)\n",
        "test_dataset = torchvision.datasets.CIFAR10(root=\"./data\", train=False, download=True)\n",
        "\n",
        "X_train = np.array(train_dataset.data)\n",
        "y_train = np.array(train_dataset.targets)\n",
        "X_test = np.array(test_dataset.data)\n",
        "y_test = np.array(test_dataset.targets)\n",
        "\n",
        "# 데이터의 크기 확인\n",
        "print(f\"Train X shape: {X_train.shape}, Train Y shape: {y_train.shape}\")\n",
        "print(f\"Test X shape: {X_test.shape}, Test Y shape: {y_test.shape}\")"
      ]
    },
    {
      "cell_type": "markdown",
      "id": "1055d5f9",
      "metadata": {
        "id": "1055d5f9"
      },
      "source": [
        "우리가 받아온 데이터가 어떤 데이터인지 알아보기 위해 각 class별로 7개의 이미지를 시각화 해봅시다."
      ]
    },
    {
      "cell_type": "code",
      "execution_count": 13,
      "id": "e6ddae22",
      "metadata": {
        "colab": {
          "base_uri": "https://localhost:8080/",
          "height": 487
        },
        "id": "e6ddae22",
        "outputId": "6b607345-91bf-435d-eef3-819556bd76da",
        "tags": [
          "pdf-ignore"
        ]
      },
      "outputs": [
        {
          "output_type": "error",
          "ename": "TypeError",
          "evalue": "Invalid shape (3072,) for image data",
          "traceback": [
            "\u001b[0;31m---------------------------------------------------------------------------\u001b[0m",
            "\u001b[0;31mTypeError\u001b[0m                                 Traceback (most recent call last)",
            "\u001b[0;32m<ipython-input-13-895931de3793>\u001b[0m in \u001b[0;36m<cell line: 0>\u001b[0;34m()\u001b[0m\n\u001b[1;32m      8\u001b[0m         \u001b[0mplt_idx\u001b[0m \u001b[0;34m=\u001b[0m \u001b[0mi\u001b[0m \u001b[0;34m*\u001b[0m \u001b[0mnum_classes\u001b[0m \u001b[0;34m+\u001b[0m \u001b[0my\u001b[0m \u001b[0;34m+\u001b[0m \u001b[0;36m1\u001b[0m\u001b[0;34m\u001b[0m\u001b[0;34m\u001b[0m\u001b[0m\n\u001b[1;32m      9\u001b[0m         \u001b[0mplt\u001b[0m\u001b[0;34m.\u001b[0m\u001b[0msubplot\u001b[0m\u001b[0;34m(\u001b[0m\u001b[0msamples_per_class\u001b[0m\u001b[0;34m,\u001b[0m \u001b[0mnum_classes\u001b[0m\u001b[0;34m,\u001b[0m \u001b[0mplt_idx\u001b[0m\u001b[0;34m)\u001b[0m\u001b[0;34m\u001b[0m\u001b[0;34m\u001b[0m\u001b[0m\n\u001b[0;32m---> 10\u001b[0;31m         \u001b[0mplt\u001b[0m\u001b[0;34m.\u001b[0m\u001b[0mimshow\u001b[0m\u001b[0;34m(\u001b[0m\u001b[0mX_train\u001b[0m\u001b[0;34m[\u001b[0m\u001b[0midx\u001b[0m\u001b[0;34m]\u001b[0m\u001b[0;34m.\u001b[0m\u001b[0mastype\u001b[0m\u001b[0;34m(\u001b[0m\u001b[0;34m'uint8'\u001b[0m\u001b[0;34m)\u001b[0m\u001b[0;34m)\u001b[0m\u001b[0;34m\u001b[0m\u001b[0;34m\u001b[0m\u001b[0m\n\u001b[0m\u001b[1;32m     11\u001b[0m         \u001b[0mplt\u001b[0m\u001b[0;34m.\u001b[0m\u001b[0maxis\u001b[0m\u001b[0;34m(\u001b[0m\u001b[0;34m'off'\u001b[0m\u001b[0;34m)\u001b[0m\u001b[0;34m\u001b[0m\u001b[0;34m\u001b[0m\u001b[0m\n\u001b[1;32m     12\u001b[0m         \u001b[0;32mif\u001b[0m \u001b[0mi\u001b[0m \u001b[0;34m==\u001b[0m \u001b[0;36m0\u001b[0m\u001b[0;34m:\u001b[0m\u001b[0;34m\u001b[0m\u001b[0;34m\u001b[0m\u001b[0m\n",
            "\u001b[0;32m/usr/local/lib/python3.11/dist-packages/matplotlib/pyplot.py\u001b[0m in \u001b[0;36mimshow\u001b[0;34m(X, cmap, norm, aspect, interpolation, alpha, vmin, vmax, colorizer, origin, extent, interpolation_stage, filternorm, filterrad, resample, url, data, **kwargs)\u001b[0m\n\u001b[1;32m   3590\u001b[0m     \u001b[0;34m**\u001b[0m\u001b[0mkwargs\u001b[0m\u001b[0;34m,\u001b[0m\u001b[0;34m\u001b[0m\u001b[0;34m\u001b[0m\u001b[0m\n\u001b[1;32m   3591\u001b[0m ) -> AxesImage:\n\u001b[0;32m-> 3592\u001b[0;31m     __ret = gca().imshow(\n\u001b[0m\u001b[1;32m   3593\u001b[0m         \u001b[0mX\u001b[0m\u001b[0;34m,\u001b[0m\u001b[0;34m\u001b[0m\u001b[0;34m\u001b[0m\u001b[0m\n\u001b[1;32m   3594\u001b[0m         \u001b[0mcmap\u001b[0m\u001b[0;34m=\u001b[0m\u001b[0mcmap\u001b[0m\u001b[0;34m,\u001b[0m\u001b[0;34m\u001b[0m\u001b[0;34m\u001b[0m\u001b[0m\n",
            "\u001b[0;32m/usr/local/lib/python3.11/dist-packages/matplotlib/__init__.py\u001b[0m in \u001b[0;36minner\u001b[0;34m(ax, data, *args, **kwargs)\u001b[0m\n\u001b[1;32m   1519\u001b[0m     \u001b[0;32mdef\u001b[0m \u001b[0minner\u001b[0m\u001b[0;34m(\u001b[0m\u001b[0max\u001b[0m\u001b[0;34m,\u001b[0m \u001b[0;34m*\u001b[0m\u001b[0margs\u001b[0m\u001b[0;34m,\u001b[0m \u001b[0mdata\u001b[0m\u001b[0;34m=\u001b[0m\u001b[0;32mNone\u001b[0m\u001b[0;34m,\u001b[0m \u001b[0;34m**\u001b[0m\u001b[0mkwargs\u001b[0m\u001b[0;34m)\u001b[0m\u001b[0;34m:\u001b[0m\u001b[0;34m\u001b[0m\u001b[0;34m\u001b[0m\u001b[0m\n\u001b[1;32m   1520\u001b[0m         \u001b[0;32mif\u001b[0m \u001b[0mdata\u001b[0m \u001b[0;32mis\u001b[0m \u001b[0;32mNone\u001b[0m\u001b[0;34m:\u001b[0m\u001b[0;34m\u001b[0m\u001b[0;34m\u001b[0m\u001b[0m\n\u001b[0;32m-> 1521\u001b[0;31m             return func(\n\u001b[0m\u001b[1;32m   1522\u001b[0m                 \u001b[0max\u001b[0m\u001b[0;34m,\u001b[0m\u001b[0;34m\u001b[0m\u001b[0;34m\u001b[0m\u001b[0m\n\u001b[1;32m   1523\u001b[0m                 \u001b[0;34m*\u001b[0m\u001b[0mmap\u001b[0m\u001b[0;34m(\u001b[0m\u001b[0mcbook\u001b[0m\u001b[0;34m.\u001b[0m\u001b[0msanitize_sequence\u001b[0m\u001b[0;34m,\u001b[0m \u001b[0margs\u001b[0m\u001b[0;34m)\u001b[0m\u001b[0;34m,\u001b[0m\u001b[0;34m\u001b[0m\u001b[0;34m\u001b[0m\u001b[0m\n",
            "\u001b[0;32m/usr/local/lib/python3.11/dist-packages/matplotlib/axes/_axes.py\u001b[0m in \u001b[0;36mimshow\u001b[0;34m(self, X, cmap, norm, aspect, interpolation, alpha, vmin, vmax, colorizer, origin, extent, interpolation_stage, filternorm, filterrad, resample, url, **kwargs)\u001b[0m\n\u001b[1;32m   5943\u001b[0m             \u001b[0mself\u001b[0m\u001b[0;34m.\u001b[0m\u001b[0mset_aspect\u001b[0m\u001b[0;34m(\u001b[0m\u001b[0maspect\u001b[0m\u001b[0;34m)\u001b[0m\u001b[0;34m\u001b[0m\u001b[0;34m\u001b[0m\u001b[0m\n\u001b[1;32m   5944\u001b[0m \u001b[0;34m\u001b[0m\u001b[0m\n\u001b[0;32m-> 5945\u001b[0;31m         \u001b[0mim\u001b[0m\u001b[0;34m.\u001b[0m\u001b[0mset_data\u001b[0m\u001b[0;34m(\u001b[0m\u001b[0mX\u001b[0m\u001b[0;34m)\u001b[0m\u001b[0;34m\u001b[0m\u001b[0;34m\u001b[0m\u001b[0m\n\u001b[0m\u001b[1;32m   5946\u001b[0m         \u001b[0mim\u001b[0m\u001b[0;34m.\u001b[0m\u001b[0mset_alpha\u001b[0m\u001b[0;34m(\u001b[0m\u001b[0malpha\u001b[0m\u001b[0;34m)\u001b[0m\u001b[0;34m\u001b[0m\u001b[0;34m\u001b[0m\u001b[0m\n\u001b[1;32m   5947\u001b[0m         \u001b[0;32mif\u001b[0m \u001b[0mim\u001b[0m\u001b[0;34m.\u001b[0m\u001b[0mget_clip_path\u001b[0m\u001b[0;34m(\u001b[0m\u001b[0;34m)\u001b[0m \u001b[0;32mis\u001b[0m \u001b[0;32mNone\u001b[0m\u001b[0;34m:\u001b[0m\u001b[0;34m\u001b[0m\u001b[0;34m\u001b[0m\u001b[0m\n",
            "\u001b[0;32m/usr/local/lib/python3.11/dist-packages/matplotlib/image.py\u001b[0m in \u001b[0;36mset_data\u001b[0;34m(self, A)\u001b[0m\n\u001b[1;32m    673\u001b[0m         \u001b[0;32mif\u001b[0m \u001b[0misinstance\u001b[0m\u001b[0;34m(\u001b[0m\u001b[0mA\u001b[0m\u001b[0;34m,\u001b[0m \u001b[0mPIL\u001b[0m\u001b[0;34m.\u001b[0m\u001b[0mImage\u001b[0m\u001b[0;34m.\u001b[0m\u001b[0mImage\u001b[0m\u001b[0;34m)\u001b[0m\u001b[0;34m:\u001b[0m\u001b[0;34m\u001b[0m\u001b[0;34m\u001b[0m\u001b[0m\n\u001b[1;32m    674\u001b[0m             \u001b[0mA\u001b[0m \u001b[0;34m=\u001b[0m \u001b[0mpil_to_array\u001b[0m\u001b[0;34m(\u001b[0m\u001b[0mA\u001b[0m\u001b[0;34m)\u001b[0m  \u001b[0;31m# Needed e.g. to apply png palette.\u001b[0m\u001b[0;34m\u001b[0m\u001b[0;34m\u001b[0m\u001b[0m\n\u001b[0;32m--> 675\u001b[0;31m         \u001b[0mself\u001b[0m\u001b[0;34m.\u001b[0m\u001b[0m_A\u001b[0m \u001b[0;34m=\u001b[0m \u001b[0mself\u001b[0m\u001b[0;34m.\u001b[0m\u001b[0m_normalize_image_array\u001b[0m\u001b[0;34m(\u001b[0m\u001b[0mA\u001b[0m\u001b[0;34m)\u001b[0m\u001b[0;34m\u001b[0m\u001b[0;34m\u001b[0m\u001b[0m\n\u001b[0m\u001b[1;32m    676\u001b[0m         \u001b[0mself\u001b[0m\u001b[0;34m.\u001b[0m\u001b[0m_imcache\u001b[0m \u001b[0;34m=\u001b[0m \u001b[0;32mNone\u001b[0m\u001b[0;34m\u001b[0m\u001b[0;34m\u001b[0m\u001b[0m\n\u001b[1;32m    677\u001b[0m         \u001b[0mself\u001b[0m\u001b[0;34m.\u001b[0m\u001b[0mstale\u001b[0m \u001b[0;34m=\u001b[0m \u001b[0;32mTrue\u001b[0m\u001b[0;34m\u001b[0m\u001b[0;34m\u001b[0m\u001b[0m\n",
            "\u001b[0;32m/usr/local/lib/python3.11/dist-packages/matplotlib/image.py\u001b[0m in \u001b[0;36m_normalize_image_array\u001b[0;34m(A)\u001b[0m\n\u001b[1;32m    641\u001b[0m             \u001b[0mA\u001b[0m \u001b[0;34m=\u001b[0m \u001b[0mA\u001b[0m\u001b[0;34m.\u001b[0m\u001b[0msqueeze\u001b[0m\u001b[0;34m(\u001b[0m\u001b[0;34m-\u001b[0m\u001b[0;36m1\u001b[0m\u001b[0;34m)\u001b[0m  \u001b[0;31m# If just (M, N, 1), assume scalar and apply colormap.\u001b[0m\u001b[0;34m\u001b[0m\u001b[0;34m\u001b[0m\u001b[0m\n\u001b[1;32m    642\u001b[0m         \u001b[0;32mif\u001b[0m \u001b[0;32mnot\u001b[0m \u001b[0;34m(\u001b[0m\u001b[0mA\u001b[0m\u001b[0;34m.\u001b[0m\u001b[0mndim\u001b[0m \u001b[0;34m==\u001b[0m \u001b[0;36m2\u001b[0m \u001b[0;32mor\u001b[0m \u001b[0mA\u001b[0m\u001b[0;34m.\u001b[0m\u001b[0mndim\u001b[0m \u001b[0;34m==\u001b[0m \u001b[0;36m3\u001b[0m \u001b[0;32mand\u001b[0m \u001b[0mA\u001b[0m\u001b[0;34m.\u001b[0m\u001b[0mshape\u001b[0m\u001b[0;34m[\u001b[0m\u001b[0;34m-\u001b[0m\u001b[0;36m1\u001b[0m\u001b[0;34m]\u001b[0m \u001b[0;32min\u001b[0m \u001b[0;34m[\u001b[0m\u001b[0;36m3\u001b[0m\u001b[0;34m,\u001b[0m \u001b[0;36m4\u001b[0m\u001b[0;34m]\u001b[0m\u001b[0;34m)\u001b[0m\u001b[0;34m:\u001b[0m\u001b[0;34m\u001b[0m\u001b[0;34m\u001b[0m\u001b[0m\n\u001b[0;32m--> 643\u001b[0;31m             \u001b[0;32mraise\u001b[0m \u001b[0mTypeError\u001b[0m\u001b[0;34m(\u001b[0m\u001b[0;34mf\"Invalid shape {A.shape} for image data\"\u001b[0m\u001b[0;34m)\u001b[0m\u001b[0;34m\u001b[0m\u001b[0;34m\u001b[0m\u001b[0m\n\u001b[0m\u001b[1;32m    644\u001b[0m         \u001b[0;32mif\u001b[0m \u001b[0mA\u001b[0m\u001b[0;34m.\u001b[0m\u001b[0mndim\u001b[0m \u001b[0;34m==\u001b[0m \u001b[0;36m3\u001b[0m\u001b[0;34m:\u001b[0m\u001b[0;34m\u001b[0m\u001b[0;34m\u001b[0m\u001b[0m\n\u001b[1;32m    645\u001b[0m             \u001b[0;31m# If the input data has values outside the valid range (after\u001b[0m\u001b[0;34m\u001b[0m\u001b[0;34m\u001b[0m\u001b[0m\n",
            "\u001b[0;31mTypeError\u001b[0m: Invalid shape (3072,) for image data"
          ]
        },
        {
          "output_type": "display_data",
          "data": {
            "text/plain": [
              "<Figure size 1000x800 with 1 Axes>"
            ],
            "image/png": "[encoded data removed]"
          },
          "metadata": {}
        }
      ],
      "source": [
        "classes = ['plane', 'car', 'bird', 'cat', 'deer', 'dog', 'frog', 'horse', 'ship', 'truck']\n",
        "num_classes = len(classes)\n",
        "samples_per_class = 8\n",
        "for y, cls in enumerate(classes):\n",
        "    idxs = np.flatnonzero(y_train == y)\n",
        "    idxs = np.random.choice(idxs, samples_per_class, replace=False)\n",
        "    for i, idx in enumerate(idxs):\n",
        "        plt_idx = i * num_classes + y + 1\n",
        "        plt.subplot(samples_per_class, num_classes, plt_idx)\n",
        "        plt.imshow(X_train[idx].astype('uint8'))\n",
        "        plt.axis('off')\n",
        "        if i == 0:\n",
        "            plt.title(cls)\n",
        "plt.show()"
      ]
    },
    {
      "cell_type": "markdown",
      "id": "f6021bdd",
      "metadata": {
        "id": "f6021bdd"
      },
      "source": [
        "50000개 + 10000개 = 60000개의 데이터를 다루기엔 너무 시간이 많이 필요하니, 적당히 데이터의 크기를 조절해 줍니다."
      ]
    },
    {
      "cell_type": "code",
      "execution_count": 15,
      "id": "673ef941",
      "metadata": {
        "id": "673ef941",
        "tags": [
          "pdf-ignore"
        ]
      },
      "outputs": [],
      "source": [
        "num_training = 5000\n",
        "mask = list(range(0, num_training * 2, 2)) # 예측 다르게 하기 위해서 마스크 값 바꿔봄\n",
        "X_train = X_train[mask]\n",
        "y_train = y_train[mask]\n",
        "\n",
        "num_test = 500\n",
        "mask = list(range(num_test))\n",
        "X_test = X_test[mask]\n",
        "y_test = y_test[mask]\n",
        "\n",
        "X_train = np.reshape(X_train, (X_train.shape[0], -1))\n",
        "X_test = np.reshape(X_test, (X_test.shape[0], -1))"
      ]
    },
    {
      "cell_type": "markdown",
      "id": "3e82b91c",
      "metadata": {
        "id": "3e82b91c"
      },
      "source": [
        "**<span style=\"color:red\"> 3. </span>** KNN 분류기를 만들고, 데이터를 넣어줍니다."
      ]
    },
    {
      "cell_type": "code",
      "execution_count": 16,
      "id": "e6a64569",
      "metadata": {
        "id": "e6a64569",
        "tags": [
          "pdf-ignore"
        ]
      },
      "outputs": [],
      "source": [
        "class KNearestNeighbor(object):\n",
        "    \"\"\" a kNN classifier with L2 distance \"\"\"\n",
        "\n",
        "    def __init__(self):\n",
        "        pass\n",
        "\n",
        "    def train(self, X, y):\n",
        "        self.X_train = X\n",
        "        self.y_train = y\n",
        "\n",
        "    def predict(self, X, k=1):\n",
        "        dists = self.compute_distances(X)\n",
        "        return self.predict_labels(dists, k=k)\n",
        "\n",
        "    # 이미지 간 거리를 구하는 코드\n",
        "    def compute_distances(self, X):\n",
        "        num_test = X.shape[0]\n",
        "        num_train = self.X_train.shape[0]\n",
        "\n",
        "        dists = np.zeros((num_test, num_train))\n",
        "        for i in range(num_test):\n",
        "            for j in range(num_train):\n",
        "                dists[i, j] = np.sqrt(np.sum(np.square(self.X_train[j]- X[i])))\n",
        "\n",
        "        return dists\n",
        "\n",
        "    # 가장 가까운 k개의 label을 선택, 투표\n",
        "    def predict_labels(self, dists, k=1):\n",
        "        num_test = dists.shape[0]\n",
        "        y_pred = np.zeros(num_test)\n",
        "        for i in range(num_test):\n",
        "            closest_y = []\n",
        "            closest_y = self.y_train[dists[i].argsort()[:k]]\n",
        "            y_pred[i]= np.argmax(np.bincount(closest_y))\n",
        "        return y_pred\n",
        "\n",
        "\n",
        "classifier = KNearestNeighbor()\n",
        "classifier.train(X_train, y_train)"
      ]
    },
    {
      "cell_type": "markdown",
      "id": "eb388396",
      "metadata": {
        "id": "eb388396"
      },
      "source": [
        "**<span style=\"color:red\"> 4. </span>** 우리의 test 데이터와 KNN 안에 있는 train 데이터와의 거리를 계산합니다.  "
      ]
    },
    {
      "cell_type": "code",
      "execution_count": 17,
      "id": "f02318c5",
      "metadata": {
        "id": "f02318c5"
      },
      "outputs": [],
      "source": [
        "dists = classifier.compute_distances(X_test)"
      ]
    },
    {
      "cell_type": "markdown",
      "id": "f0213e02",
      "metadata": {
        "id": "f0213e02"
      },
      "source": [
        "**<span style=\"color:red\"> [퀴즈] </span>** 만약 학습에 이용했던 데이터를 예측하는 test 데이터로 사용하면 어떤 일이 일어날까요?   \n",
        "(k가 1일 때와 아닐 때로 구분해서 생각해봅시다!)"
      ]
    },
    {
      "cell_type": "markdown",
      "id": "12babc8d",
      "metadata": {
        "id": "12babc8d"
      },
      "source": [
        "**<span style=\"color:red\"> [정답] </span>**"
      ]
    },
    {
      "cell_type": "markdown",
      "id": "1b32da02",
      "metadata": {
        "id": "1b32da02"
      },
      "source": [
        "-여기에 적어주세요-\\\n",
        "k=1일 때는 가장 가까운 거 하나만 보고 확정짓기 때문에 정확도가 100%가 나오게 됩니다.\n",
        "이건 마치 모의고사를 봤는데 수능에 모의고사 문제가 그대로 나온 것과 같기 때문에...\n",
        "일반적인 알고리즘이라면 정확도가 100%가 나와야 정상입니다\n",
        "\n",
        "하지만 knn 특성 상 k>1이 되면 결과가 달라질 수도 있습니다"
      ]
    },
    {
      "cell_type": "markdown",
      "id": "242a220b",
      "metadata": {
        "id": "242a220b"
      },
      "source": [
        "**<span style=\"color:red\"> 5. </span>** 구한 거리를 바탕으로 test 데이터의 이미지가 어떤 이미지인지 예측하고 정확도를 구합니다."
      ]
    },
    {
      "cell_type": "code",
      "execution_count": 22,
      "id": "44c2cb31",
      "metadata": {
        "colab": {
          "base_uri": "https://localhost:8080/"
        },
        "id": "44c2cb31",
        "outputId": "ba3f704a-5cb6-41ea-f301-2b965494afd1"
      },
      "outputs": [
        {
          "output_type": "stream",
          "name": "stdout",
          "text": [
            "Got 95 / 500 correct => accuracy: 0.190000\n"
          ]
        }
      ],
      "source": [
        "# 모든 test 데이터를 예측\n",
        "y_test_pred = classifier.predict_labels(dists, k=1)\n",
        "\n",
        "num_correct = np.sum(y_test_pred == y_test)\n",
        "accuracy = float(num_correct) / num_test\n",
        "print('Got %d / %d correct => accuracy: %f' % (num_correct, num_test, accuracy))"
      ]
    },
    {
      "cell_type": "markdown",
      "id": "a68f3ad1",
      "metadata": {
        "id": "a68f3ad1"
      },
      "source": [
        "**<span style=\"color:red\"> 6. </span>** K가 5일 때도 해봅시다"
      ]
    },
    {
      "cell_type": "code",
      "execution_count": 21,
      "id": "b4722bbf",
      "metadata": {
        "colab": {
          "base_uri": "https://localhost:8080/"
        },
        "id": "b4722bbf",
        "outputId": "d32c1ee0-e7ea-40f4-aeaf-9219b2bacf13"
      },
      "outputs": [
        {
          "output_type": "stream",
          "name": "stdout",
          "text": [
            "Got 104 / 500 correct => accuracy: 0.208000\n"
          ]
        }
      ],
      "source": [
        "y_test_pred = classifier.predict_labels(dists, k=5)\n",
        "num_correct = np.sum(y_test_pred == y_test)\n",
        "accuracy = float(num_correct) / num_test\n",
        "print('Got %d / %d correct => accuracy: %f' % (num_correct, num_test, accuracy))"
      ]
    },
    {
      "cell_type": "markdown",
      "id": "f354d246",
      "metadata": {
        "id": "f354d246"
      },
      "source": [
        "**<span style=\"color:red\"> 7. </span>** 특정 이미지를 분류한 결과를 볼까요?"
      ]
    },
    {
      "cell_type": "code",
      "execution_count": null,
      "id": "5fa63e17",
      "metadata": {
        "colab": {
          "base_uri": "https://localhost:8080/",
          "height": 231
        },
        "id": "5fa63e17",
        "outputId": "61a0aa92-5892-43d9-995a-df274b4ed1aa",
        "tags": [
          "code"
        ]
      },
      "outputs": [
        {
          "output_type": "stream",
          "name": "stdout",
          "text": [
            "(5, 32, 32, 3)\n"
          ]
        },
        {
          "output_type": "display_data",
          "data": {
            "text/plain": [
              "<Figure size 1000x200 with 5 Axes>"
            ],
            "image/png": "[encoded data removed]"
          },
          "metadata": {}
        }
      ],
      "source": [
        "random.seed(1)\n",
        "num_samples = 5\n",
        "indices = random.sample(range(X_test.shape[0]), num_samples)\n",
        "X_check = X_test[indices]\n",
        "y_check = y_test[indices]\n",
        "\n",
        "y_pred = classifier.predict(X_check, k = 5)\n",
        "\n",
        "X_check = np.reshape(X_check, (5, 32, 32, 3))\n",
        "print(X_check.shape)\n",
        "\n",
        "fig, axes = plt.subplots(1, num_samples, figsize=(10, 2))  # 1행 5열로 이미지 배치\n",
        "for i, ax in enumerate(axes):\n",
        "    ax.imshow(X_check[i])  # 이미지 표시\n",
        "    ax.axis('off')  # 축 숨기기\n",
        "    ax.set_title(f\"Pred: {classes[int(y_pred[i])]}\\nTrue: {classes[y_check[i]]}\")  # 예측값 & 정답 표시\n",
        "\n"
      ]
    },
    {
      "cell_type": "markdown",
      "id": "0c32cbff",
      "metadata": {
        "id": "0c32cbff"
      },
      "source": [
        "이미지가 잘 분류 되었나요??"
      ]
    },
    {
      "cell_type": "markdown",
      "id": "abe500a0",
      "metadata": {
        "id": "abe500a0"
      },
      "source": [
        "-여기에 적어주세요-\n",
        "\n",
        "정확도가 20%도 안 되네요~"
      ]
    },
    {
      "cell_type": "markdown",
      "id": "fbedc19b",
      "metadata": {
        "id": "fbedc19b"
      },
      "source": [
        "**<span style=\"color:brown\"> [설문] </span>** 혹시 인공지능에 대해 얼마나 알고 계신가요?? 설명 가능한 단어를 모두 골라주세요  \n",
        "<span style=\"color:violet\"> 1. </span> 배치 정규화  ✔️ <br/>\n",
        "<span style=\"color:violet\"> 2. </span> 활성화 함수  \n",
        "<span style=\"color:violet\"> 3. </span> 과적합  ✔️ <br/>\n",
        "<span style=\"color:violet\"> 4. </span> 앙상블 학습 ✔️ <br/>\n",
        "<span style=\"color:violet\"> 5. </span> 드롭아웃  \n",
        "<span style=\"color:violet\"> 6. </span> 어텐션 매커니즘  "
      ]
    },
    {
      "cell_type": "markdown",
      "id": "812b603e",
      "metadata": {
        "id": "812b603e"
      },
      "source": [
        "⬆️위에 적었습니다"
      ]
    },
    {
      "cell_type": "markdown",
      "id": "ccd09673",
      "metadata": {
        "id": "ccd09673"
      },
      "source": [
        "## 1주차 과제 끝!\n",
        "1주차 과제는 여기까지 입니다! 1주차 과제는 간단한 실습 위주로 준비해봤습니다.  \n",
        "\n",
        "수업 중 이해가 안가거나 어려웠던 부분, 수업에 관한 피드백을 적어주시면 다음 주차 강의에 적극적으로 반영하겠습니다!"
      ]
    },
    {
      "cell_type": "markdown",
      "source": [
        " 인공지능 - AI\n",
        "\n",
        " 머신러닝 - 패턴 학습 통해서 분류 / 회귀\n",
        "\n",
        " 딥러닝 - Neural Network 사용해 더 인간같이 추론\n",
        "\n",
        "\n",
        "\n",
        "---\n",
        "\n",
        "지도학습 - x 데이터 y 레이블 식으로 학습하기\n",
        "\n",
        "ex. 강아지 / 물고기 사진\n",
        "\n",
        "비지도학습 - 정답 없이 그냥 하는 거\n",
        "\n",
        "ex. 클러스터링\n",
        "\n",
        "---\n",
        "Nearest Neighbor 분류\n",
        "\n",
        "L1 거리 abs(a-b)\n",
        "L2 거리 (a^2+b^2)^.5\n",
        "\n",
        "가장 가까운 거리의 값을 return\n",
        "\n",
        "---\n",
        "\n",
        "KNN\n",
        "\n",
        "K-Nearest Neighbor\n",
        "\n",
        "knn은 똑같은 학습 데이터와 데이터셋에서도 100% 정확도가 안 나올 수도..\n",
        "\n",
        "근처에 있는 가장 자주 발견되는 데이터로 자신을 분류\n",
        "\n",
        "K 몇으로 하는지가 좀 중요하다\n",
        "\n",
        "성능 구림\n",
        "\n",
        "---\n",
        "\n",
        "선형 분류\n",
        "\n",
        "이미지가 있으면 (ex. 32\\*32\\*3)\n",
        "np.reshape(-1, 1) 이런식으로 다 풀어서 학습\n",
        "\n",
        "색깔에 치중되어 있는 방법이라 이것도 약간 별로\n"
      ],
      "metadata": {
        "id": "TLl93XRZt9jf"
      },
      "id": "TLl93XRZt9jf"
    }
  ],
  "metadata": {
    "accelerator": "GPU",
    "colab": {
      "gpuType": "T4",
      "provenance": [],
      "include_colab_link": true
    },
    "kernelspec": {
      "display_name": "Python 3",
      "name": "python3"
    },
    "language_info": {
      "codemirror_mode": {
        "name": "ipython",
        "version": 3
      },
      "file_extension": ".py",
      "mimetype": "text/x-python",
      "name": "python",
      "nbconvert_exporter": "python",
      "pygments_lexer": "ipython3",
      "version": "3.12.8"
    }
  },
  "nbformat": 4,
  "nbformat_minor": 5
}