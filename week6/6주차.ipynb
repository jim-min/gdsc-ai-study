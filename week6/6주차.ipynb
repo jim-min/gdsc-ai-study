{
  "cells": [
    {
      "cell_type": "markdown",
      "metadata": {
        "id": "view-in-github",
        "colab_type": "text"
      },
      "source": [
        "<a href=\"https://colab.research.google.com/github/jim-min/gdsc-ai-study/blob/main/week6/6%EC%A3%BC%EC%B0%A8.ipynb\" target=\"_parent\"><img src=\"https://colab.research.google.com/assets/colab-badge.svg\" alt=\"Open In Colab\"/></a>"
      ]
    },
    {
      "cell_type": "markdown",
      "id": "92445c44",
      "metadata": {
        "id": "92445c44"
      },
      "source": [
        "# **GDG 인공지능 기초 6주차 과제**\n",
        "늘 그랬듯이 이번에도 퀴즈와 실습을 준비했습니다!"
      ]
    },
    {
      "cell_type": "markdown",
      "id": "315f7f01",
      "metadata": {
        "id": "315f7f01"
      },
      "source": [
        "## **<span style=\"color:green\"> [ 퀴즈 ] </span>**"
      ]
    },
    {
      "cell_type": "markdown",
      "id": "307403a9",
      "metadata": {
        "id": "307403a9"
      },
      "source": [
        "**<span style=\"color:red\"> 1. </span>** 흑백 이미지의 크기가 25 x 25이고, FNN 모델의 첫 번째 은닉층의 뉴런이 10개, 두 번째 은닉층의 뉴런이 100개일 때, 이 모델에 사용되는 매개변수의 개수는 몇개일까요?"
      ]
    },
    {
      "cell_type": "markdown",
      "id": "08c714d7",
      "metadata": {
        "id": "08c714d7"
      },
      "source": []
    },
    {
      "cell_type": "markdown",
      "id": "b69603f5",
      "metadata": {
        "id": "b69603f5"
      },
      "source": [
        "**<span style=\"color:red\"> 2. </span>** 10 x 12 x 3 크기의 행렬에 stride = 1, padding = 2로 3x3x3 크기의 필터 6개를 사용하면 나오는 feature map의 크기는 몇일까요?"
      ]
    },
    {
      "cell_type": "markdown",
      "id": "b632033a",
      "metadata": {
        "id": "b632033a"
      },
      "source": [
        "① 12 x 14 x 3  \n",
        "② 14 x 16 x 6  \n",
        "③ 10 x 12 x 6  \n",
        "④ 12 x 14 x 6  "
      ]
    },
    {
      "cell_type": "markdown",
      "id": "946dcff3",
      "metadata": {
        "id": "946dcff3"
      },
      "source": []
    },
    {
      "cell_type": "markdown",
      "id": "c8b474c8",
      "metadata": {
        "id": "c8b474c8"
      },
      "source": [
        "**<span style=\"color:red\"> 3. </span>** 이 때, stride = 2로 바꾸면 feature map의 크기는?"
      ]
    },
    {
      "cell_type": "markdown",
      "id": "83b69af2",
      "metadata": {
        "id": "83b69af2"
      },
      "source": []
    },
    {
      "cell_type": "markdown",
      "id": "36a58ea3",
      "metadata": {
        "id": "36a58ea3"
      },
      "source": [
        "**<span style=\"color:red\"> 4. </span>** CNN의 설명에 대해 올바르지 못한 것은 무엇인가요?"
      ]
    },
    {
      "cell_type": "markdown",
      "id": "044a0763",
      "metadata": {
        "id": "044a0763"
      },
      "source": [
        "① 합성곱 계층에서는 하나의 필터가 입력의 전체 채널에 대해 동시에 연산을 수행한다.  \n",
        "② CNN은 FNN보다 파라미터 수가 많기 때문에 학습 시간이 오래 걸린다.  \n",
        "③ 여러 개의 필터를 사용하면, 입력 데이터의 다양한 특성을 동시에 추출할 수 있다.  \n",
        "④ 스트라이드를 늘리면 출력 feature map의 크기가 작아진다.  "
      ]
    },
    {
      "cell_type": "markdown",
      "id": "d1f845f2",
      "metadata": {
        "id": "d1f845f2"
      },
      "source": [
        "## **<span style=\"color:green\"> [ 실습 ] </span> CNN**\n",
        "Cifar10 데이터를 사용하여 CNN으로 이미지를 분류하는 작업을 해봅시다.\n"
      ]
    },
    {
      "cell_type": "markdown",
      "id": "eaef7ceb",
      "metadata": {
        "id": "eaef7ceb"
      },
      "source": [
        "**<span style=\"color:red\"> 1. </span>** 필요한 모듈과 데이터를 받아줍니다."
      ]
    },
    {
      "cell_type": "code",
      "execution_count": 1,
      "id": "2aba73de",
      "metadata": {
        "id": "2aba73de",
        "outputId": "82b077cc-afd4-448e-fbdb-532f32771499",
        "colab": {
          "base_uri": "https://localhost:8080/"
        }
      },
      "outputs": [
        {
          "output_type": "stream",
          "name": "stdout",
          "text": [
            "\u001b[2K   \u001b[90m━━━━━━━━━━━━━━━━━━━━━━━━━━━━━━━━━━━━━━━━\u001b[0m \u001b[32m363.4/363.4 MB\u001b[0m \u001b[31m4.6 MB/s\u001b[0m eta \u001b[36m0:00:00\u001b[0m\n",
            "\u001b[2K   \u001b[90m━━━━━━━━━━━━━━━━━━━━━━━━━━━━━━━━━━━━━━━━\u001b[0m \u001b[32m13.8/13.8 MB\u001b[0m \u001b[31m41.5 MB/s\u001b[0m eta \u001b[36m0:00:00\u001b[0m\n",
            "\u001b[2K   \u001b[90m━━━━━━━━━━━━━━━━━━━━━━━━━━━━━━━━━━━━━━━━\u001b[0m \u001b[32m24.6/24.6 MB\u001b[0m \u001b[31m31.1 MB/s\u001b[0m eta \u001b[36m0:00:00\u001b[0m\n",
            "\u001b[2K   \u001b[90m━━━━━━━━━━━━━━━━━━━━━━━━━━━━━━━━━━━━━━━━\u001b[0m \u001b[32m883.7/883.7 kB\u001b[0m \u001b[31m47.2 MB/s\u001b[0m eta \u001b[36m0:00:00\u001b[0m\n",
            "\u001b[2K   \u001b[90m━━━━━━━━━━━━━━━━━━━━━━━━━━━━━━━━━━━━━━━━\u001b[0m \u001b[32m664.8/664.8 MB\u001b[0m \u001b[31m3.0 MB/s\u001b[0m eta \u001b[36m0:00:00\u001b[0m\n",
            "\u001b[2K   \u001b[90m━━━━━━━━━━━━━━━━━━━━━━━━━━━━━━━━━━━━━━━━\u001b[0m \u001b[32m211.5/211.5 MB\u001b[0m \u001b[31m5.4 MB/s\u001b[0m eta \u001b[36m0:00:00\u001b[0m\n",
            "\u001b[2K   \u001b[90m━━━━━━━━━━━━━━━━━━━━━━━━━━━━━━━━━━━━━━━━\u001b[0m \u001b[32m56.3/56.3 MB\u001b[0m \u001b[31m23.8 MB/s\u001b[0m eta \u001b[36m0:00:00\u001b[0m\n",
            "\u001b[2K   \u001b[90m━━━━━━━━━━━━━━━━━━━━━━━━━━━━━━━━━━━━━━━━\u001b[0m \u001b[32m127.9/127.9 MB\u001b[0m \u001b[31m8.1 MB/s\u001b[0m eta \u001b[36m0:00:00\u001b[0m\n",
            "\u001b[2K   \u001b[90m━━━━━━━━━━━━━━━━━━━━━━━━━━━━━━━━━━━━━━━━\u001b[0m \u001b[32m207.5/207.5 MB\u001b[0m \u001b[31m5.2 MB/s\u001b[0m eta \u001b[36m0:00:00\u001b[0m\n",
            "\u001b[2K   \u001b[90m━━━━━━━━━━━━━━━━━━━━━━━━━━━━━━━━━━━━━━━━\u001b[0m \u001b[32m21.1/21.1 MB\u001b[0m \u001b[31m35.8 MB/s\u001b[0m eta \u001b[36m0:00:00\u001b[0m\n",
            "\u001b[?25h"
          ]
        }
      ],
      "source": [
        "!pip install numpy torch torchvision matplotlib tqdm --quiet"
      ]
    },
    {
      "cell_type": "code",
      "execution_count": 2,
      "id": "a2c0aaa2",
      "metadata": {
        "id": "a2c0aaa2"
      },
      "outputs": [],
      "source": [
        "import torch\n",
        "import torch.nn as nn\n",
        "import torch.nn.functional as F\n",
        "import torchvision\n",
        "import torchvision.transforms as transforms\n",
        "import matplotlib.pyplot as plt\n",
        "import numpy as np\n",
        "import random\n",
        "from tqdm import tqdm\n"
      ]
    },
    {
      "cell_type": "markdown",
      "id": "ce6ced83",
      "metadata": {
        "id": "ce6ced83"
      },
      "source": [
        "**<span style=\"color:red\"> 2. </span>** Cifar10 데이터셋을 로드합니다."
      ]
    },
    {
      "cell_type": "code",
      "execution_count": 3,
      "id": "7798aef5",
      "metadata": {
        "id": "7798aef5",
        "outputId": "1392b6bc-970e-4e55-ac5c-055737954bfa",
        "colab": {
          "base_uri": "https://localhost:8080/"
        }
      },
      "outputs": [
        {
          "output_type": "stream",
          "name": "stderr",
          "text": [
            "100%|██████████| 170M/170M [00:05<00:00, 30.2MB/s]\n"
          ]
        }
      ],
      "source": [
        "transform = transforms.Compose([\n",
        "    transforms.ToTensor(),\n",
        "    transforms.Normalize((0.5, 0.5, 0.5), (0.5, 0.5, 0.5))\n",
        "])\n",
        "\n",
        "trainset = torchvision.datasets.CIFAR10(root='./data', train=True, download=True, transform=transform)\n",
        "trainloader = torch.utils.data.DataLoader(trainset, batch_size=64, shuffle=True)\n",
        "\n",
        "testset = torchvision.datasets.CIFAR10(root='./data', train=False, download=True, transform=transform)\n",
        "testloader = torch.utils.data.DataLoader(testset, batch_size=64, shuffle=False)\n",
        "\n",
        "classes = trainset.classes"
      ]
    },
    {
      "cell_type": "markdown",
      "id": "ecb4f2ac",
      "metadata": {
        "id": "ecb4f2ac"
      },
      "source": [
        "**<span style=\"color:red\"> 3. </span>** CNN 모델을 만들어줍니다."
      ]
    },
    {
      "cell_type": "code",
      "execution_count": 15,
      "id": "345aadee",
      "metadata": {
        "id": "345aadee"
      },
      "outputs": [],
      "source": [
        "# 모델 정의\n",
        "class CNN(nn.Module):\n",
        "    def __init__(self):\n",
        "        super(CNN, self).__init__()\n",
        "        self.conv1 = nn.Conv2d(3, 6, 5)     # 3 input channels, 6 filters, 5x5 kernel\n",
        "        self.pool = nn.MaxPool2d(2, 2)      # 2x2 pooling\n",
        "        self.conv2 = nn.Conv2d(6, 16, 5)    # 6 input channels, 16 filters, 5x5 kernel\n",
        "        self.fc1 = nn.Linear(16 * 5 * 5, 120)\n",
        "        self.fc2 = nn.Linear(120, 84)\n",
        "        self.fc3 = nn.Linear(84, 10)        # 10 output classes (CIFAR-10)\n",
        "\n",
        "    def forward(self, x):\n",
        "        x = self.pool(F.relu(self.conv1(x)))   # conv1 + relu + pool\n",
        "        x = self.pool(F.relu(self.conv2(x)))   # conv2 + relu + pool\n",
        "        x = torch.flatten(x, 1)                # flatten\n",
        "        x = F.relu(self.fc1(x))\n",
        "        x = F.relu(self.fc2(x))\n",
        "        x = self.fc3(x)\n",
        "        return x\n",
        "\n",
        "device = torch.device(\"cpu\")\n",
        "model = CNN().to(device)\n",
        "\n",
        "# 손실함수와 옵티마이저 정의\n",
        "criterion = nn.CrossEntropyLoss()\n",
        "optimizer = torch.optim.Adam(model.parameters(), lr=0.001)\n"
      ]
    },
    {
      "cell_type": "markdown",
      "id": "dcb8196a",
      "metadata": {
        "id": "dcb8196a"
      },
      "source": [
        "**<span style=\"color:red\"> 4. </span>** 에폭 10으로, 학습을 합니다. (약간 시간이 걸립니다다)"
      ]
    },
    {
      "cell_type": "code",
      "execution_count": 16,
      "id": "43cc4aac",
      "metadata": {
        "id": "43cc4aac",
        "outputId": "87439019-3071-43da-b7be-d0dc71d96eed",
        "colab": {
          "base_uri": "https://localhost:8080/"
        }
      },
      "outputs": [
        {
          "output_type": "stream",
          "name": "stderr",
          "text": [
            "Epoch 1/10: 100%|██████████| 782/782 [00:22<00:00, 34.45it/s]\n"
          ]
        },
        {
          "output_type": "stream",
          "name": "stdout",
          "text": [
            "[Epoch 1] Loss: 1.6512\n"
          ]
        },
        {
          "output_type": "stream",
          "name": "stderr",
          "text": [
            "Epoch 2/10: 100%|██████████| 782/782 [00:22<00:00, 35.23it/s]\n"
          ]
        },
        {
          "output_type": "stream",
          "name": "stdout",
          "text": [
            "[Epoch 2] Loss: 1.3871\n"
          ]
        },
        {
          "output_type": "stream",
          "name": "stderr",
          "text": [
            "Epoch 3/10: 100%|██████████| 782/782 [00:22<00:00, 34.82it/s]\n"
          ]
        },
        {
          "output_type": "stream",
          "name": "stdout",
          "text": [
            "[Epoch 3] Loss: 1.2526\n"
          ]
        },
        {
          "output_type": "stream",
          "name": "stderr",
          "text": [
            "Epoch 4/10: 100%|██████████| 782/782 [00:20<00:00, 37.52it/s]\n"
          ]
        },
        {
          "output_type": "stream",
          "name": "stdout",
          "text": [
            "[Epoch 4] Loss: 1.1451\n"
          ]
        },
        {
          "output_type": "stream",
          "name": "stderr",
          "text": [
            "Epoch 5/10: 100%|██████████| 782/782 [00:21<00:00, 36.00it/s]\n"
          ]
        },
        {
          "output_type": "stream",
          "name": "stdout",
          "text": [
            "[Epoch 5] Loss: 1.0693\n"
          ]
        },
        {
          "output_type": "stream",
          "name": "stderr",
          "text": [
            "Epoch 6/10: 100%|██████████| 782/782 [00:21<00:00, 36.29it/s]\n"
          ]
        },
        {
          "output_type": "stream",
          "name": "stdout",
          "text": [
            "[Epoch 6] Loss: 1.0043\n"
          ]
        },
        {
          "output_type": "stream",
          "name": "stderr",
          "text": [
            "Epoch 7/10: 100%|██████████| 782/782 [00:21<00:00, 35.94it/s]\n"
          ]
        },
        {
          "output_type": "stream",
          "name": "stdout",
          "text": [
            "[Epoch 7] Loss: 0.9576\n"
          ]
        },
        {
          "output_type": "stream",
          "name": "stderr",
          "text": [
            "Epoch 8/10: 100%|██████████| 782/782 [00:20<00:00, 37.44it/s]\n"
          ]
        },
        {
          "output_type": "stream",
          "name": "stdout",
          "text": [
            "[Epoch 8] Loss: 0.9140\n"
          ]
        },
        {
          "output_type": "stream",
          "name": "stderr",
          "text": [
            "Epoch 9/10: 100%|██████████| 782/782 [00:21<00:00, 36.39it/s]\n"
          ]
        },
        {
          "output_type": "stream",
          "name": "stdout",
          "text": [
            "[Epoch 9] Loss: 0.8756\n"
          ]
        },
        {
          "output_type": "stream",
          "name": "stderr",
          "text": [
            "Epoch 10/10: 100%|██████████| 782/782 [00:21<00:00, 36.12it/s]"
          ]
        },
        {
          "output_type": "stream",
          "name": "stdout",
          "text": [
            "[Epoch 10] Loss: 0.8433\n"
          ]
        },
        {
          "output_type": "stream",
          "name": "stderr",
          "text": [
            "\n"
          ]
        }
      ],
      "source": [
        "# 학습 루프\n",
        "epochs = 10\n",
        "for epoch in range(epochs):\n",
        "    running_loss = 0.0\n",
        "    model.train()\n",
        "    for inputs, labels in tqdm(trainloader, desc=f\"Epoch {epoch+1}/{epochs}\"):\n",
        "        inputs, labels = inputs.to(device), labels.to(device)\n",
        "\n",
        "        optimizer.zero_grad()\n",
        "        outputs = model(inputs)\n",
        "        loss = criterion(outputs, labels)\n",
        "        loss.backward()\n",
        "        optimizer.step()\n",
        "\n",
        "        running_loss += loss.item()\n",
        "    print(f\"[Epoch {epoch+1}] Loss: {running_loss / len(trainloader):.4f}\")\n"
      ]
    },
    {
      "cell_type": "markdown",
      "id": "37f814c8",
      "metadata": {
        "id": "37f814c8"
      },
      "source": [
        "**<span style=\"color:red\"> 5. </span>** 필터, feature map, 이미지를 시각화 하는 함수들을 정의합니다."
      ]
    },
    {
      "cell_type": "code",
      "execution_count": 17,
      "id": "57fcc7d6",
      "metadata": {
        "id": "57fcc7d6"
      },
      "outputs": [],
      "source": [
        "def visualize_filters(model):\n",
        "\n",
        "    filters = model.conv1.weight.data.clone()\n",
        "    filters = (filters - filters.min()) / (filters.max() - filters.min())  # normalize to [0,1]\n",
        "\n",
        "    fig, axs = plt.subplots(1, 6, figsize=(12, 2))\n",
        "    for i in range(6):\n",
        "        axs[i].imshow(np.transpose(filters[i].numpy(), (1, 2, 0)))\n",
        "        axs[i].axis('off')\n",
        "    plt.suptitle('Conv1 Filters')\n",
        "    plt.show()\n",
        "\n",
        "def visualize_feature_maps(model, testloader):\n",
        "    dataiter = iter(testloader)\n",
        "    images, labels = next(dataiter)\n",
        "    idx = random.randint(0, images.size(0) - 1)\n",
        "    img = images[idx].unsqueeze(0)\n",
        "    label = labels[idx].item()\n",
        "\n",
        "    with torch.no_grad():\n",
        "        x = F.relu(model.conv1(img))\n",
        "        x = model.pool(x)\n",
        "\n",
        "    fig, axs = plt.subplots(2, 3, figsize=(10, 5))\n",
        "    for i in range(6):\n",
        "        ax = axs[i//3, i%3]\n",
        "        ax.imshow(x[0, i].cpu().numpy(), cmap='gray')\n",
        "        ax.axis('off')\n",
        "        ax.set_title(f'Feature Map {i+1}')\n",
        "    plt.suptitle(f'Label: {classes[label]}')\n",
        "    plt.show()\n",
        "\n",
        "def visualize_test_predictions(model, testloader, num_images=5):\n",
        "    model.eval()\n",
        "    images_shown = 0\n",
        "\n",
        "    with torch.no_grad():\n",
        "        for images, labels in testloader:\n",
        "            outputs = model(images)\n",
        "            _, predicted = torch.max(outputs, 1)\n",
        "\n",
        "            for i in range(images.size(0)):\n",
        "                if images_shown >= num_images:\n",
        "                    plt.show()\n",
        "                    return\n",
        "                img = images[i] / 2 + 0.5  # unnormalize\n",
        "                npimg = img.numpy()\n",
        "                plt.subplot(1, num_images, images_shown + 1)\n",
        "                plt.imshow(np.transpose(npimg, (1, 2, 0)))\n",
        "                plt.title(f'P:{classes[predicted[i]]}\\nT:{classes[labels[i]]}',\n",
        "                          color='green' if predicted[i] == labels[i] else 'red')\n",
        "                plt.axis('off')\n",
        "                images_shown += 1\n",
        "    plt.show()"
      ]
    },
    {
      "cell_type": "markdown",
      "id": "50a547b0",
      "metadata": {
        "id": "50a547b0"
      },
      "source": [
        "**<span style=\"color:red\"> 6. </span>** 모델의 정확도를 평가해봅시다."
      ]
    },
    {
      "cell_type": "code",
      "execution_count": 8,
      "id": "ea921039",
      "metadata": {
        "id": "ea921039",
        "outputId": "c0e572d6-a283-4935-868c-1e63919bf092",
        "colab": {
          "base_uri": "https://localhost:8080/"
        }
      },
      "outputs": [
        {
          "output_type": "stream",
          "name": "stdout",
          "text": [
            "Test Accuracy: 62.90%\n"
          ]
        },
        {
          "output_type": "execute_result",
          "data": {
            "text/plain": [
              "62.9"
            ]
          },
          "metadata": {},
          "execution_count": 8
        }
      ],
      "source": [
        "def evaluate_accuracy(model, test_loader, device='cpu'):\n",
        "    model.eval()  # 평가 모드 전환 (Dropout, BatchNorm 등 동작 달라짐)\n",
        "    correct = 0\n",
        "    total = 0\n",
        "\n",
        "    with torch.no_grad():  # 그래디언트 계산 끄기\n",
        "        for images, labels in test_loader:\n",
        "            images, labels = images.to(device), labels.to(device)\n",
        "            outputs = model(images)\n",
        "            _, predicted = torch.max(outputs, dim=1)\n",
        "            total += labels.size(0)\n",
        "            correct += (predicted == labels).sum().item()\n",
        "\n",
        "    accuracy = 100 * correct / total\n",
        "    print(f'Test Accuracy: {accuracy:.2f}%')\n",
        "    return accuracy\n",
        "\n",
        "evaluate_accuracy(model, testloader, device)\n"
      ]
    },
    {
      "cell_type": "markdown",
      "id": "5e16b7f6",
      "metadata": {
        "id": "5e16b7f6"
      },
      "source": [
        "선형 변환 이후 softmax를 사용하면 34%정도의 정확도가 나왔지만, CNN을 사용하니 60%이상의 정확도가 나왔습니다."
      ]
    },
    {
      "cell_type": "markdown",
      "id": "d5a3ff94",
      "metadata": {
        "id": "d5a3ff94"
      },
      "source": [
        "**<span style=\"color:red\"> 7. </span>** 마지막으로 다양한 요소들을 시각화 해보겠습니다."
      ]
    },
    {
      "cell_type": "code",
      "execution_count": 18,
      "id": "67799ec4",
      "metadata": {
        "id": "67799ec4",
        "outputId": "177163a8-f165-42b6-ed67-87a596672a2e",
        "colab": {
          "base_uri": "https://localhost:8080/",
          "height": 803
        }
      },
      "outputs": [
        {
          "output_type": "display_data",
          "data": {
            "text/plain": [
              "<Figure size 1200x200 with 6 Axes>"
            ],
            "image/png": "[encoded data removed]"
          },
          "metadata": {}
        },
        {
          "output_type": "display_data",
          "data": {
            "text/plain": [
              "<Figure size 1000x500 with 6 Axes>"
            ],
            "image/png": "[encoded data removed]"
          },
          "metadata": {}
        },
        {
          "output_type": "display_data",
          "data": {
            "text/plain": [
              "<Figure size 640x480 with 5 Axes>"
            ],
            "image/png": "[encoded data removed]"
          },
          "metadata": {}
        }
      ],
      "source": [
        "visualize_filters(model)\n",
        "visualize_feature_maps(model, testloader)\n",
        "visualize_test_predictions(model, testloader)"
      ]
    },
    {
      "cell_type": "markdown",
      "id": "ccd09673",
      "metadata": {
        "id": "ccd09673"
      },
      "source": [
        "## 6주차 과제 끝!\n",
        "여기까지 오느라 수고 많으셨고, 기말고사 다들 잘 보시길 바라겠습니다. 감사합니다!"
      ]
    }
  ],
  "metadata": {
    "accelerator": "GPU",
    "colab": {
      "gpuType": "T4",
      "provenance": [],
      "include_colab_link": true
    },
    "kernelspec": {
      "display_name": "Python 3",
      "name": "python3"
    },
    "language_info": {
      "codemirror_mode": {
        "name": "ipython",
        "version": 3
      },
      "file_extension": ".py",
      "mimetype": "text/x-python",
      "name": "python",
      "nbconvert_exporter": "python",
      "pygments_lexer": "ipython3",
      "version": "3.11.2"
    }
  },
  "nbformat": 4,
  "nbformat_minor": 5
}