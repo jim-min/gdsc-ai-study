{
  "nbformat": 4,
  "nbformat_minor": 0,
  "metadata": {
    "colab": {
      "provenance": [],
      "gpuType": "T4",
      "authorship_tag": "ABX9TyM65EgvZqxGK14lF3mcE5lI",
      "include_colab_link": true
    },
    "kernelspec": {
      "name": "python3",
      "display_name": "Python 3"
    },
    "language_info": {
      "name": "python"
    },
    "accelerator": "GPU"
  },
  "cells": [
    {
      "cell_type": "markdown",
      "metadata": {
        "id": "view-in-github",
        "colab_type": "text"
      },
      "source": [
        "<a href=\"https://colab.research.google.com/github/jim-min/gdsc-ai-study/blob/main/boostcamp/boostcamp_1.ipynb\" target=\"_parent\"><img src=\"https://colab.research.google.com/assets/colab-badge.svg\" alt=\"Open In Colab\"/></a>"
      ]
    },
    {
      "cell_type": "code",
      "execution_count": 3,
      "metadata": {
        "colab": {
          "base_uri": "https://localhost:8080/"
        },
        "id": "4GQU0zqSXdbD",
        "outputId": "1aa2eb71-89c0-420d-dc2a-2b77775aa909"
      },
      "outputs": [
        {
          "output_type": "stream",
          "name": "stdout",
          "text": [
            "[[0 1 2 3 4]\n",
            " [5 6 7 8 9]]\n",
            "ndim : 2 shape : (2, 5)\n"
          ]
        }
      ],
      "source": [
        "# Torch에서는 텐서를 사용해서 다차원 배열을 다룸\n",
        "\n",
        "import torch\n",
        "import numpy as np\n",
        "\n",
        "n_array = np.arange(10).reshape(2,5)\n",
        "print(n_array)\n",
        "print(\"ndim :\", n_array.ndim, \"shape :\", n_array.shape)"
      ]
    },
    {
      "cell_type": "code",
      "source": [
        "t_array = torch.FloatTensor(n_array)\n",
        "print(t_array)\n",
        "print(\"ndim :\", t_array.ndim, \"shape :\", t_array.shape)"
      ],
      "metadata": {
        "colab": {
          "base_uri": "https://localhost:8080/"
        },
        "id": "jfzEnL7VeTT-",
        "outputId": "2b1674a1-3bfb-4f2d-8669-89e4ad37e827"
      },
      "execution_count": 4,
      "outputs": [
        {
          "output_type": "stream",
          "name": "stdout",
          "text": [
            "tensor([[0., 1., 2., 3., 4.],\n",
            "        [5., 6., 7., 8., 9.]])\n",
            "ndim : 2 shape : torch.Size([2, 5])\n"
          ]
        }
      ]
    },
    {
      "cell_type": "code",
      "source": [
        "data = [[3,5], [10, 5]]\n",
        "x_data = torch.tensor(data)\n",
        "x_data"
      ],
      "metadata": {
        "colab": {
          "base_uri": "https://localhost:8080/"
        },
        "id": "ojzmfApTedlH",
        "outputId": "2cf9da79-eab7-48d7-e4be-f8e394848afd"
      },
      "execution_count": 5,
      "outputs": [
        {
          "output_type": "execute_result",
          "data": {
            "text/plain": [
              "tensor([[ 3,  5],\n",
              "        [10,  5]])"
            ]
          },
          "metadata": {},
          "execution_count": 5
        }
      ]
    },
    {
      "cell_type": "code",
      "source": [
        "nd_array_ex = np.array(data)\n",
        "tensor_array = torch.from_numpy(nd_array_ex)\n",
        "tensor_array"
      ],
      "metadata": {
        "colab": {
          "base_uri": "https://localhost:8080/"
        },
        "id": "CEJBGoF5esry",
        "outputId": "9861ffea-c2a3-4f6e-f8c6-6e26bbecaf28"
      },
      "execution_count": 7,
      "outputs": [
        {
          "output_type": "execute_result",
          "data": {
            "text/plain": [
              "tensor([[ 3,  5],\n",
              "        [10,  5]])"
            ]
          },
          "metadata": {},
          "execution_count": 7
        }
      ]
    },
    {
      "cell_type": "code",
      "source": [
        "x_data.flatten()\n",
        "\n",
        "torch.ones_like(x_data)"
      ],
      "metadata": {
        "colab": {
          "base_uri": "https://localhost:8080/"
        },
        "id": "WGYogKyrfRcV",
        "outputId": "5ada99c2-6bcc-4cd4-fbf9-e2b0c514c954"
      },
      "execution_count": 7,
      "outputs": [
        {
          "output_type": "execute_result",
          "data": {
            "text/plain": [
              "tensor([[1, 1],\n",
              "        [1, 1]])"
            ]
          },
          "metadata": {},
          "execution_count": 7
        }
      ]
    },
    {
      "cell_type": "code",
      "source": [
        "x_data.device"
      ],
      "metadata": {
        "colab": {
          "base_uri": "https://localhost:8080/"
        },
        "id": "CU0HqdDxfdRc",
        "outputId": "6d8f242a-da5f-461d-943e-cad64279f161"
      },
      "execution_count": 14,
      "outputs": [
        {
          "output_type": "execute_result",
          "data": {
            "text/plain": [
              "device(type='cpu')"
            ]
          },
          "metadata": {},
          "execution_count": 14
        }
      ]
    },
    {
      "cell_type": "code",
      "source": [
        "if torch.cuda.is_available():\n",
        "  x_data_cuda = x_data.to('cuda')\n",
        "\n",
        "x_data_cuda.device"
      ],
      "metadata": {
        "colab": {
          "base_uri": "https://localhost:8080/"
        },
        "id": "wIYUcqIDfz4D",
        "outputId": "37121a70-59ea-4b49-a339-b014908a0e00"
      },
      "execution_count": 8,
      "outputs": [
        {
          "output_type": "execute_result",
          "data": {
            "text/plain": [
              "device(type='cuda', index=0)"
            ]
          },
          "metadata": {},
          "execution_count": 8
        }
      ]
    },
    {
      "cell_type": "code",
      "source": [
        "tensor_ex = torch.rand(size=(2,3,2))\n",
        "tensor_ex\n",
        "\n",
        "tensor_ex.view(-1, 6)  #tensor은 view를 쓰는 게 좋을 때도 있음 출력 형태만 바꿔줄 때\n",
        "tensor_ex.reshape(-1, 6)"
      ],
      "metadata": {
        "colab": {
          "base_uri": "https://localhost:8080/"
        },
        "id": "KrKzW6kpfz2_",
        "outputId": "0cfeaca4-2dac-4baa-f326-69490e13b64a"
      },
      "execution_count": 20,
      "outputs": [
        {
          "output_type": "execute_result",
          "data": {
            "text/plain": [
              "tensor([[0.4902, 0.4350, 0.6155, 0.8263, 0.5940, 0.5135],\n",
              "        [0.3899, 0.1340, 0.3893, 0.8003, 0.3848, 0.9355]])"
            ]
          },
          "metadata": {},
          "execution_count": 20
        }
      ]
    },
    {
      "cell_type": "code",
      "source": [
        "tensor_ex = torch.rand(size=(2,3,1))\n",
        "\n",
        "tensor_ex.squeeze()\n",
        "\n",
        "tensor_ex.unsqueeze(0)\n",
        "tensor_ex.shape"
      ],
      "metadata": {
        "colab": {
          "base_uri": "https://localhost:8080/"
        },
        "id": "HELLrhxrgvW9",
        "outputId": "68768098-a4b8-4903-972e-defe8403523f"
      },
      "execution_count": 49,
      "outputs": [
        {
          "output_type": "execute_result",
          "data": {
            "text/plain": [
              "torch.Size([2, 3, 1])"
            ]
          },
          "metadata": {},
          "execution_count": 49
        }
      ]
    },
    {
      "cell_type": "code",
      "source": [
        "# 행렬곱셈할 때는 mm을 사용 (matrix multiplication)\n",
        "\n",
        "n1 = np.arange(10).reshape(2,5)\n",
        "n2 = np.arange(10).reshape(5,2)\n",
        "\n",
        "t1 = torch.FloatTensor(n1)\n",
        "t2 = torch.FloatTensor(n2)\n",
        "\n",
        "t1.mm(t2)"
      ],
      "metadata": {
        "colab": {
          "base_uri": "https://localhost:8080/"
        },
        "id": "z1CFDO1Ehumj",
        "outputId": "25664ea5-8ce1-4c1a-bbf3-b27f0ddd4b4b"
      },
      "execution_count": 50,
      "outputs": [
        {
          "output_type": "execute_result",
          "data": {
            "text/plain": [
              "tensor([[ 60.,  70.],\n",
              "        [160., 195.]])"
            ]
          },
          "metadata": {},
          "execution_count": 50
        }
      ]
    },
    {
      "cell_type": "code",
      "source": [
        "a = torch.rand(5,2,3)\n",
        "b = torch.rand(3)\n",
        "\n",
        "print(a)\n",
        "\n",
        "# a.mm(b) 이렇게 쓰면 broadcast 안 됨\n",
        "a.matmul(b)"
      ],
      "metadata": {
        "colab": {
          "base_uri": "https://localhost:8080/"
        },
        "id": "aRImAJIqiREG",
        "outputId": "6be4bfe6-a4fe-464d-85e8-b9ae1ac57363"
      },
      "execution_count": 53,
      "outputs": [
        {
          "output_type": "stream",
          "name": "stdout",
          "text": [
            "tensor([[[0.8496, 0.5450, 0.7718],\n",
            "         [0.3682, 0.9221, 0.2186]],\n",
            "\n",
            "        [[0.9588, 0.3553, 0.9970],\n",
            "         [0.4736, 0.5388, 0.8425]],\n",
            "\n",
            "        [[0.9539, 0.6897, 0.8909],\n",
            "         [0.1021, 0.1809, 0.7176]],\n",
            "\n",
            "        [[0.5221, 0.4929, 0.0396],\n",
            "         [0.7423, 0.0949, 0.7272]],\n",
            "\n",
            "        [[0.6259, 0.6850, 0.5652],\n",
            "         [0.0901, 0.1871, 0.8611]]])\n"
          ]
        },
        {
          "output_type": "execute_result",
          "data": {
            "text/plain": [
              "tensor([[1.0229, 1.0916],\n",
              "        [0.9094, 0.7954],\n",
              "        [1.2222, 0.2364],\n",
              "        [0.7751, 0.5333],\n",
              "        [1.0218, 0.2361]])"
            ]
          },
          "metadata": {},
          "execution_count": 53
        }
      ]
    },
    {
      "cell_type": "code",
      "source": [
        "import torch.nn.functional as Func\n",
        "\n",
        "tensorF = torch.FloatTensor([0.5, 0.7, 0.1])\n",
        "h_tensor = Func.softmax(tensorF, dim=0)\n",
        "h_tensor"
      ],
      "metadata": {
        "colab": {
          "base_uri": "https://localhost:8080/"
        },
        "id": "ICjtRvDViqqw",
        "outputId": "2229551d-f3d2-426c-ed9f-a4c13718a040"
      },
      "execution_count": 54,
      "outputs": [
        {
          "output_type": "execute_result",
          "data": {
            "text/plain": [
              "tensor([0.3458, 0.4224, 0.2318])"
            ]
          },
          "metadata": {},
          "execution_count": 54
        }
      ]
    },
    {
      "cell_type": "code",
      "source": [
        "w = torch.tensor(2.0, requires_grad=True)\n",
        "y = w**2\n",
        "z = 2*y + 5\n",
        "\n",
        "z.backward()  # 미분\n",
        "w.grad"
      ],
      "metadata": {
        "colab": {
          "base_uri": "https://localhost:8080/"
        },
        "id": "CXlTg24Ti4yf",
        "outputId": "cb493974-e92c-4de6-80b3-70a04d170f28"
      },
      "execution_count": 55,
      "outputs": [
        {
          "output_type": "execute_result",
          "data": {
            "text/plain": [
              "tensor(8.)"
            ]
          },
          "metadata": {},
          "execution_count": 55
        }
      ]
    }
  ]
}