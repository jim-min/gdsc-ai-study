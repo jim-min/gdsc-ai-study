{
  "cells": [
    {
      "cell_type": "markdown",
      "metadata": {
        "id": "view-in-github",
        "colab_type": "text"
      },
      "source": [
        "<a href=\"https://colab.research.google.com/github/jim-min/gdsc-ai-study/blob/main/week5/5%EC%A3%BC%EC%B0%A8.ipynb\" target=\"_parent\"><img src=\"https://colab.research.google.com/assets/colab-badge.svg\" alt=\"Open In Colab\"/></a>"
      ]
    },
    {
      "cell_type": "markdown",
      "id": "92445c44",
      "metadata": {
        "id": "92445c44"
      },
      "source": [
        "# **GDG 인공지능 기초 5주차 과제**\n",
        "이번 주차도 어어김없이 퀴즈와 실습으로 구성되어있습니다."
      ]
    },
    {
      "cell_type": "markdown",
      "id": "1b6d08db",
      "metadata": {
        "id": "1b6d08db"
      },
      "source": [
        "## **<span style=\"color:green\"> [ 퀴즈 ] </span>**"
      ]
    },
    {
      "cell_type": "markdown",
      "id": "060a465c",
      "metadata": {
        "id": "060a465c"
      },
      "source": [
        "#####  **<span style=\"color:red\"> 1. </span>** Adam 옵티마이저가 다른 옵티마이저(SGD 등)에 비해 가지는 주요 특징은 무엇인가요?"
      ]
    },
    {
      "cell_type": "markdown",
      "id": "a4630084",
      "metadata": {
        "id": "a4630084"
      },
      "source": [
        "① 매번 일정한 학습률로 가중치를 업데이트한다.  \n",
        "② 이전 그라디언트를 무시하고 현재 그라디언트만 사용한다.  \n",
        "③ 매 에포크마다 학습률을 수동으로 조정해야 한다.  \n",
        "④ 모멘텀과 RMSprop의 장점을 결합하여 학습률을 적응적으로 조절한다.  "
      ]
    },
    {
      "cell_type": "markdown",
      "id": "02c21a22",
      "metadata": {
        "id": "02c21a22"
      },
      "source": [
        "4"
      ]
    },
    {
      "cell_type": "markdown",
      "id": "4cd65197",
      "metadata": {
        "id": "4cd65197"
      },
      "source": [
        "#####  **<span style=\"color:red\"> 2. </span>** 총 데이터가 30000개 있고 배치 크기는 256입니다. 이 때 epoch = 10일 때, 총 미니배치 경사하강법은 몇 번 일어날까요?"
      ]
    },
    {
      "cell_type": "markdown",
      "id": "17447a5a",
      "metadata": {
        "id": "17447a5a"
      },
      "source": [
        "① 1160    \n",
        "② 1170  \n",
        "③ 1180  \n",
        "④ 2560   "
      ]
    },
    {
      "cell_type": "markdown",
      "id": "b954f040",
      "metadata": {
        "id": "b954f040"
      },
      "source": [
        "3.\n",
        "\n",
        "ceil(30000 / 256) * 10 하면 1180"
      ]
    },
    {
      "cell_type": "markdown",
      "id": "8cab2a9b",
      "metadata": {
        "id": "8cab2a9b"
      },
      "source": [
        "##### **<span style=\"color:red\"> 3. </span>** 배치 정규화(Batch Normalization)에서 순전파와 역전파가 다르게 작동하는 이유는 무엇일까요?"
      ]
    },
    {
      "cell_type": "markdown",
      "id": "ed38e457",
      "metadata": {
        "id": "ed38e457"
      },
      "source": [
        "① 순전파에서는 미니배치의 통계(평균, 분산)를 사용하지만, 역전파에서는 전체 데이터셋의 통계를 사용하기 때문이다.  \n",
        "② 순전파에서 입력값을 정규화하기 위해 미니배치 통계를 사용하지만, 역전파에서는 이 통계를 고정된 값으로 취급하고, 그라디언트를 계산하기 때문이다.  \n",
        "③ 순전파와 역전파에서 사용하는 파라미터가 다르기 때문이다.   \n",
        "④ 역전파에서 미니배치 통계가 아니라 이전 레이어의 출력값만을 사용하기 때문이다.  "
      ]
    },
    {
      "cell_type": "markdown",
      "id": "bc9049fd",
      "metadata": {
        "id": "bc9049fd"
      },
      "source": [
        "2"
      ]
    },
    {
      "cell_type": "markdown",
      "id": "6b5951e8",
      "metadata": {
        "id": "6b5951e8"
      },
      "source": [
        "##### **<span style=\"color:red\"> 4. </span>** 딥러닝에서 드롭아웃(Dropout)의 주요 목적은 무엇이며, 학습과 테스트 단계에서 어떻게 다르게 작동하나요?"
      ]
    },
    {
      "cell_type": "markdown",
      "id": "a7c7a13f",
      "metadata": {
        "id": "a7c7a13f"
      },
      "source": [
        "① 파라미터 수를 줄여 계산량을 줄이고, 학습·추론 시 항상 같은 뉴런만 활성화시킨다.  \n",
        "② 학습 시 일부 뉴런을 무작위로 꺼서 과적합을 줄이며, 추론 시에는 모든 뉴런을 사용하지만 출력을 평균화한다.  \n",
        "③ 학습과 추론 모두에서 랜덤으로 뉴런을 꺼서 모델이 다양한 경로로 예측하게 한다.  \n",
        "④ 레이어의 가중치를 정규화하여 학습을 안정화시키는 기술이다.  "
      ]
    },
    {
      "cell_type": "markdown",
      "id": "bb7380a7",
      "metadata": {
        "id": "bb7380a7"
      },
      "source": [
        "2"
      ]
    },
    {
      "cell_type": "markdown",
      "id": "8084a82c",
      "metadata": {
        "id": "8084a82c"
      },
      "source": [
        "##### **<span style=\"color:red\"> 5. </span>** 어떤 Fully Connected Neural Network(FNN)는 각 레이어가 다음과 같이 구성되어 있습니다.\n",
        "##### Linear → BatchNorm → ReLU → Dropout 구조가 사용된 이유를 잘못 설명한 것은 무엇일까요?"
      ]
    },
    {
      "cell_type": "markdown",
      "id": "50417066",
      "metadata": {
        "id": "50417066"
      },
      "source": [
        "① BatchNorm은 입력 분포를 정규화해 ReLU가 보다 안정적으로 동작할 수 있도록 한다.  \n",
        "② Dropout은 비선형 함수를 통과한 후 일부 출력을 무작위로 제거해 과적합을 방지한다.  \n",
        "③ BatchNorm은 드롭아웃의 무작위성에 영향을 줄 수 있기 때문에 반드시 앞에 와야 한다.  \n",
        "④ 이 구조는 학습 안정성과 일반화 성능을 동시에 고려한 전형적인 구성이다.  "
      ]
    },
    {
      "cell_type": "markdown",
      "id": "6257b7f3",
      "metadata": {
        "id": "6257b7f3"
      },
      "source": [
        "3"
      ]
    },
    {
      "cell_type": "markdown",
      "id": "bfa6f75c",
      "metadata": {
        "id": "bfa6f75c"
      },
      "source": [
        "## **<span style=\"color:green\"> [ 실습 ] </span> 2-layer FNN**\n",
        "MNIST 데이터라는 손글씨 데이터를 2-layer FNN에 넣고 학습해보는는 실습을 해보겠습니다!"
      ]
    },
    {
      "cell_type": "markdown",
      "id": "e259302b",
      "metadata": {
        "id": "e259302b"
      },
      "source": [
        "**<span style=\"color:red\"> 1. </span>** 필요한 모듈을 다운받고, 가져옵니다."
      ]
    },
    {
      "cell_type": "code",
      "execution_count": null,
      "id": "d4df7c55",
      "metadata": {
        "id": "d4df7c55",
        "outputId": "79dd3346-02a5-4c47-b288-656e106402f7",
        "colab": {
          "base_uri": "https://localhost:8080/"
        }
      },
      "outputs": [
        {
          "output_type": "stream",
          "name": "stdout",
          "text": [
            "Requirement already satisfied: torch in /usr/local/lib/python3.11/dist-packages (2.6.0+cu124)\n",
            "Requirement already satisfied: torchvision in /usr/local/lib/python3.11/dist-packages (0.21.0+cu124)\n",
            "Requirement already satisfied: matplotlib in /usr/local/lib/python3.11/dist-packages (3.10.0)\n",
            "Requirement already satisfied: numpy in /usr/local/lib/python3.11/dist-packages (2.0.2)\n",
            "Requirement already satisfied: filelock in /usr/local/lib/python3.11/dist-packages (from torch) (3.18.0)\n",
            "Requirement already satisfied: typing-extensions>=4.10.0 in /usr/local/lib/python3.11/dist-packages (from torch) (4.14.0)\n",
            "Requirement already satisfied: networkx in /usr/local/lib/python3.11/dist-packages (from torch) (3.5)\n",
            "Requirement already satisfied: jinja2 in /usr/local/lib/python3.11/dist-packages (from torch) (3.1.6)\n",
            "Requirement already satisfied: fsspec in /usr/local/lib/python3.11/dist-packages (from torch) (2025.3.2)\n",
            "Collecting nvidia-cuda-nvrtc-cu12==12.4.127 (from torch)\n",
            "  Downloading nvidia_cuda_nvrtc_cu12-12.4.127-py3-none-manylinux2014_x86_64.whl.metadata (1.5 kB)\n",
            "Collecting nvidia-cuda-runtime-cu12==12.4.127 (from torch)\n",
            "  Downloading nvidia_cuda_runtime_cu12-12.4.127-py3-none-manylinux2014_x86_64.whl.metadata (1.5 kB)\n",
            "Collecting nvidia-cuda-cupti-cu12==12.4.127 (from torch)\n",
            "  Downloading nvidia_cuda_cupti_cu12-12.4.127-py3-none-manylinux2014_x86_64.whl.metadata (1.6 kB)\n",
            "Collecting nvidia-cudnn-cu12==9.1.0.70 (from torch)\n",
            "  Downloading nvidia_cudnn_cu12-9.1.0.70-py3-none-manylinux2014_x86_64.whl.metadata (1.6 kB)\n",
            "Collecting nvidia-cublas-cu12==12.4.5.8 (from torch)\n",
            "  Downloading nvidia_cublas_cu12-12.4.5.8-py3-none-manylinux2014_x86_64.whl.metadata (1.5 kB)\n",
            "Collecting nvidia-cufft-cu12==11.2.1.3 (from torch)\n",
            "  Downloading nvidia_cufft_cu12-11.2.1.3-py3-none-manylinux2014_x86_64.whl.metadata (1.5 kB)\n",
            "Collecting nvidia-curand-cu12==10.3.5.147 (from torch)\n",
            "  Downloading nvidia_curand_cu12-10.3.5.147-py3-none-manylinux2014_x86_64.whl.metadata (1.5 kB)\n",
            "Collecting nvidia-cusolver-cu12==11.6.1.9 (from torch)\n",
            "  Downloading nvidia_cusolver_cu12-11.6.1.9-py3-none-manylinux2014_x86_64.whl.metadata (1.6 kB)\n",
            "Collecting nvidia-cusparse-cu12==12.3.1.170 (from torch)\n",
            "  Downloading nvidia_cusparse_cu12-12.3.1.170-py3-none-manylinux2014_x86_64.whl.metadata (1.6 kB)\n",
            "Requirement already satisfied: nvidia-cusparselt-cu12==0.6.2 in /usr/local/lib/python3.11/dist-packages (from torch) (0.6.2)\n",
            "Requirement already satisfied: nvidia-nccl-cu12==2.21.5 in /usr/local/lib/python3.11/dist-packages (from torch) (2.21.5)\n",
            "Requirement already satisfied: nvidia-nvtx-cu12==12.4.127 in /usr/local/lib/python3.11/dist-packages (from torch) (12.4.127)\n",
            "Collecting nvidia-nvjitlink-cu12==12.4.127 (from torch)\n",
            "  Downloading nvidia_nvjitlink_cu12-12.4.127-py3-none-manylinux2014_x86_64.whl.metadata (1.5 kB)\n",
            "Requirement already satisfied: triton==3.2.0 in /usr/local/lib/python3.11/dist-packages (from torch) (3.2.0)\n",
            "Requirement already satisfied: sympy==1.13.1 in /usr/local/lib/python3.11/dist-packages (from torch) (1.13.1)\n",
            "Requirement already satisfied: mpmath<1.4,>=1.1.0 in /usr/local/lib/python3.11/dist-packages (from sympy==1.13.1->torch) (1.3.0)\n",
            "Requirement already satisfied: pillow!=8.3.*,>=5.3.0 in /usr/local/lib/python3.11/dist-packages (from torchvision) (11.2.1)\n",
            "Requirement already satisfied: contourpy>=1.0.1 in /usr/local/lib/python3.11/dist-packages (from matplotlib) (1.3.2)\n",
            "Requirement already satisfied: cycler>=0.10 in /usr/local/lib/python3.11/dist-packages (from matplotlib) (0.12.1)\n",
            "Requirement already satisfied: fonttools>=4.22.0 in /usr/local/lib/python3.11/dist-packages (from matplotlib) (4.58.1)\n",
            "Requirement already satisfied: kiwisolver>=1.3.1 in /usr/local/lib/python3.11/dist-packages (from matplotlib) (1.4.8)\n",
            "Requirement already satisfied: packaging>=20.0 in /usr/local/lib/python3.11/dist-packages (from matplotlib) (24.2)\n",
            "Requirement already satisfied: pyparsing>=2.3.1 in /usr/local/lib/python3.11/dist-packages (from matplotlib) (3.2.3)\n",
            "Requirement already satisfied: python-dateutil>=2.7 in /usr/local/lib/python3.11/dist-packages (from matplotlib) (2.9.0.post0)\n",
            "Requirement already satisfied: six>=1.5 in /usr/local/lib/python3.11/dist-packages (from python-dateutil>=2.7->matplotlib) (1.17.0)\n",
            "Requirement already satisfied: MarkupSafe>=2.0 in /usr/local/lib/python3.11/dist-packages (from jinja2->torch) (3.0.2)\n",
            "Downloading nvidia_cublas_cu12-12.4.5.8-py3-none-manylinux2014_x86_64.whl (363.4 MB)\n",
            "\u001b[2K   \u001b[90m━━━━━━━━━━━━━━━━━━━━━━━━━━━━━━━━━━━━━━━━\u001b[0m \u001b[32m363.4/363.4 MB\u001b[0m \u001b[31m4.5 MB/s\u001b[0m eta \u001b[36m0:00:00\u001b[0m\n",
            "\u001b[?25hDownloading nvidia_cuda_cupti_cu12-12.4.127-py3-none-manylinux2014_x86_64.whl (13.8 MB)\n",
            "\u001b[2K   \u001b[90m━━━━━━━━━━━━━━━━━━━━━━━━━━━━━━━━━━━━━━━━\u001b[0m \u001b[32m13.8/13.8 MB\u001b[0m \u001b[31m87.3 MB/s\u001b[0m eta \u001b[36m0:00:00\u001b[0m\n",
            "\u001b[?25hDownloading nvidia_cuda_nvrtc_cu12-12.4.127-py3-none-manylinux2014_x86_64.whl (24.6 MB)\n",
            "\u001b[2K   \u001b[90m━━━━━━━━━━━━━━━━━━━━━━━━━━━━━━━━━━━━━━━━\u001b[0m \u001b[32m24.6/24.6 MB\u001b[0m \u001b[31m62.0 MB/s\u001b[0m eta \u001b[36m0:00:00\u001b[0m\n",
            "\u001b[?25hDownloading nvidia_cuda_runtime_cu12-12.4.127-py3-none-manylinux2014_x86_64.whl (883 kB)\n",
            "\u001b[2K   \u001b[90m━━━━━━━━━━━━━━━━━━━━━━━━━━━━━━━━━━━━━━━━\u001b[0m \u001b[32m883.7/883.7 kB\u001b[0m \u001b[31m46.1 MB/s\u001b[0m eta \u001b[36m0:00:00\u001b[0m\n",
            "\u001b[?25hDownloading nvidia_cudnn_cu12-9.1.0.70-py3-none-manylinux2014_x86_64.whl (664.8 MB)\n",
            "\u001b[2K   \u001b[90m━━━━━━━━━━━━━━━━━━━━━━━━━━━━━━━━━━━━━━━\u001b[0m \u001b[32m664.8/664.8 MB\u001b[0m \u001b[31m730.5 kB/s\u001b[0m eta \u001b[36m0:00:00\u001b[0m\n",
            "\u001b[?25hDownloading nvidia_cufft_cu12-11.2.1.3-py3-none-manylinux2014_x86_64.whl (211.5 MB)\n",
            "\u001b[2K   \u001b[90m━━━━━━━━━━━━━━━━━━━━━━━━━━━━━━━━━━━━━━━━\u001b[0m \u001b[32m211.5/211.5 MB\u001b[0m \u001b[31m5.9 MB/s\u001b[0m eta \u001b[36m0:00:00\u001b[0m\n",
            "\u001b[?25hDownloading nvidia_curand_cu12-10.3.5.147-py3-none-manylinux2014_x86_64.whl (56.3 MB)\n",
            "\u001b[2K   \u001b[90m━━━━━━━━━━━━━━━━━━━━━━━━━━━━━━━━━━━━━━━━\u001b[0m \u001b[32m56.3/56.3 MB\u001b[0m \u001b[31m11.6 MB/s\u001b[0m eta \u001b[36m0:00:00\u001b[0m\n",
            "\u001b[?25hDownloading nvidia_cusolver_cu12-11.6.1.9-py3-none-manylinux2014_x86_64.whl (127.9 MB)\n",
            "\u001b[2K   \u001b[90m━━━━━━━━━━━━━━━━━━━━━━━━━━━━━━━━━━━━━━━━\u001b[0m \u001b[32m127.9/127.9 MB\u001b[0m \u001b[31m7.5 MB/s\u001b[0m eta \u001b[36m0:00:00\u001b[0m\n",
            "\u001b[?25hDownloading nvidia_cusparse_cu12-12.3.1.170-py3-none-manylinux2014_x86_64.whl (207.5 MB)\n",
            "\u001b[2K   \u001b[90m━━━━━━━━━━━━━━━━━━━━━━━━━━━━━━━━━━━━━━━━\u001b[0m \u001b[32m207.5/207.5 MB\u001b[0m \u001b[31m5.3 MB/s\u001b[0m eta \u001b[36m0:00:00\u001b[0m\n",
            "\u001b[?25hDownloading nvidia_nvjitlink_cu12-12.4.127-py3-none-manylinux2014_x86_64.whl (21.1 MB)\n",
            "\u001b[2K   \u001b[90m━━━━━━━━━━━━━━━━━━━━━━━━━━━━━━━━━━━━━━━━\u001b[0m \u001b[32m21.1/21.1 MB\u001b[0m \u001b[31m108.0 MB/s\u001b[0m eta \u001b[36m0:00:00\u001b[0m\n",
            "\u001b[?25hInstalling collected packages: nvidia-nvjitlink-cu12, nvidia-curand-cu12, nvidia-cufft-cu12, nvidia-cuda-runtime-cu12, nvidia-cuda-nvrtc-cu12, nvidia-cuda-cupti-cu12, nvidia-cublas-cu12, nvidia-cusparse-cu12, nvidia-cudnn-cu12, nvidia-cusolver-cu12\n",
            "  Attempting uninstall: nvidia-nvjitlink-cu12\n",
            "    Found existing installation: nvidia-nvjitlink-cu12 12.5.82\n",
            "    Uninstalling nvidia-nvjitlink-cu12-12.5.82:\n",
            "      Successfully uninstalled nvidia-nvjitlink-cu12-12.5.82\n",
            "  Attempting uninstall: nvidia-curand-cu12\n",
            "    Found existing installation: nvidia-curand-cu12 10.3.6.82\n",
            "    Uninstalling nvidia-curand-cu12-10.3.6.82:\n",
            "      Successfully uninstalled nvidia-curand-cu12-10.3.6.82\n",
            "  Attempting uninstall: nvidia-cufft-cu12\n",
            "    Found existing installation: nvidia-cufft-cu12 11.2.3.61\n",
            "    Uninstalling nvidia-cufft-cu12-11.2.3.61:\n",
            "      Successfully uninstalled nvidia-cufft-cu12-11.2.3.61\n",
            "  Attempting uninstall: nvidia-cuda-runtime-cu12\n",
            "    Found existing installation: nvidia-cuda-runtime-cu12 12.5.82\n",
            "    Uninstalling nvidia-cuda-runtime-cu12-12.5.82:\n",
            "      Successfully uninstalled nvidia-cuda-runtime-cu12-12.5.82\n",
            "  Attempting uninstall: nvidia-cuda-nvrtc-cu12\n",
            "    Found existing installation: nvidia-cuda-nvrtc-cu12 12.5.82\n",
            "    Uninstalling nvidia-cuda-nvrtc-cu12-12.5.82:\n",
            "      Successfully uninstalled nvidia-cuda-nvrtc-cu12-12.5.82\n",
            "  Attempting uninstall: nvidia-cuda-cupti-cu12\n",
            "    Found existing installation: nvidia-cuda-cupti-cu12 12.5.82\n",
            "    Uninstalling nvidia-cuda-cupti-cu12-12.5.82:\n",
            "      Successfully uninstalled nvidia-cuda-cupti-cu12-12.5.82\n",
            "  Attempting uninstall: nvidia-cublas-cu12\n",
            "    Found existing installation: nvidia-cublas-cu12 12.5.3.2\n",
            "    Uninstalling nvidia-cublas-cu12-12.5.3.2:\n",
            "      Successfully uninstalled nvidia-cublas-cu12-12.5.3.2\n",
            "  Attempting uninstall: nvidia-cusparse-cu12\n",
            "    Found existing installation: nvidia-cusparse-cu12 12.5.1.3\n",
            "    Uninstalling nvidia-cusparse-cu12-12.5.1.3:\n",
            "      Successfully uninstalled nvidia-cusparse-cu12-12.5.1.3\n",
            "  Attempting uninstall: nvidia-cudnn-cu12\n",
            "    Found existing installation: nvidia-cudnn-cu12 9.3.0.75\n",
            "    Uninstalling nvidia-cudnn-cu12-9.3.0.75:\n",
            "      Successfully uninstalled nvidia-cudnn-cu12-9.3.0.75\n",
            "  Attempting uninstall: nvidia-cusolver-cu12\n",
            "    Found existing installation: nvidia-cusolver-cu12 11.6.3.83\n",
            "    Uninstalling nvidia-cusolver-cu12-11.6.3.83:\n",
            "      Successfully uninstalled nvidia-cusolver-cu12-11.6.3.83\n",
            "Successfully installed nvidia-cublas-cu12-12.4.5.8 nvidia-cuda-cupti-cu12-12.4.127 nvidia-cuda-nvrtc-cu12-12.4.127 nvidia-cuda-runtime-cu12-12.4.127 nvidia-cudnn-cu12-9.1.0.70 nvidia-cufft-cu12-11.2.1.3 nvidia-curand-cu12-10.3.5.147 nvidia-cusolver-cu12-11.6.1.9 nvidia-cusparse-cu12-12.3.1.170 nvidia-nvjitlink-cu12-12.4.127\n"
          ]
        }
      ],
      "source": [
        "!pip install torch torchvision matplotlib numpy"
      ]
    },
    {
      "cell_type": "code",
      "execution_count": null,
      "id": "705aa099",
      "metadata": {
        "id": "705aa099"
      },
      "outputs": [],
      "source": [
        "import torch\n",
        "import torch.nn as nn\n",
        "import torch.nn.functional as F\n",
        "import torch.optim as optim\n",
        "from torchvision import datasets, transforms\n",
        "from torch.utils.data import DataLoader\n",
        "import matplotlib.pyplot as plt\n",
        "import numpy as np\n",
        "import random"
      ]
    },
    {
      "cell_type": "markdown",
      "id": "140dd5a6",
      "metadata": {
        "id": "140dd5a6"
      },
      "source": [
        "**<span style=\"color:red\"> 2. </span>** 사용할 하이퍼파라미터들을 설정해주고, MNIST 데이터를 불러옵니다."
      ]
    },
    {
      "cell_type": "code",
      "execution_count": null,
      "id": "a6c00d93",
      "metadata": {
        "id": "a6c00d93"
      },
      "outputs": [],
      "source": [
        "batch_size = 64\n",
        "learning_rate = 0.01\n",
        "num_epochs = 5\n",
        "use_batchnorm = True\n",
        "use_dropout = True"
      ]
    },
    {
      "cell_type": "code",
      "execution_count": null,
      "id": "97f07c69",
      "metadata": {
        "id": "97f07c69",
        "outputId": "aaa26226-faca-4ec3-bc17-44001295c7d5",
        "colab": {
          "base_uri": "https://localhost:8080/"
        }
      },
      "outputs": [
        {
          "output_type": "stream",
          "name": "stderr",
          "text": [
            "100%|██████████| 9.91M/9.91M [00:00<00:00, 17.9MB/s]\n",
            "100%|██████████| 28.9k/28.9k [00:00<00:00, 483kB/s]\n",
            "100%|██████████| 1.65M/1.65M [00:00<00:00, 3.84MB/s]\n",
            "100%|██████████| 4.54k/4.54k [00:00<00:00, 10.0MB/s]\n"
          ]
        }
      ],
      "source": [
        "transform = transforms.ToTensor()\n",
        "train_data = datasets.MNIST(root='./data', train=True, transform=transform, download=True)\n",
        "test_data = datasets.MNIST(root='./data', train=False, transform=transform)\n",
        "\n",
        "train_loader = DataLoader(train_data, batch_size=batch_size, shuffle=True)\n",
        "test_loader = DataLoader(test_data, batch_size=batch_size, shuffle=False)\n"
      ]
    },
    {
      "cell_type": "markdown",
      "id": "f14b2146",
      "metadata": {
        "id": "f14b2146"
      },
      "source": [
        "**<span style=\"color:red\"> 3. </span>** 사용할 2-layer FNN 모델을 정의합니다."
      ]
    },
    {
      "cell_type": "code",
      "execution_count": null,
      "id": "40e068ed",
      "metadata": {
        "id": "40e068ed",
        "tags": [
          "pdf-ignore"
        ]
      },
      "outputs": [],
      "source": [
        "# 모델 정의\n",
        "class SimpleFNN(nn.Module):\n",
        "    def __init__(self):\n",
        "        super(SimpleFNN, self).__init__()\n",
        "        self.fc1 = nn.Linear(28*28, 256)\n",
        "        self.bn1 = nn.BatchNorm1d(256) if use_batchnorm else nn.Identity()\n",
        "        self.dropout1 = nn.Dropout(0.5) if use_dropout else nn.Identity()\n",
        "\n",
        "        self.fc2 = nn.Linear(256, 128)\n",
        "        self.bn2 = nn.BatchNorm1d(128) if use_batchnorm else nn.Identity()\n",
        "        self.dropout2 = nn.Dropout(0.5) if use_dropout else nn.Identity()\n",
        "\n",
        "        self.fc3 = nn.Linear(128, 10)\n",
        "\n",
        "    def forward(self, x):\n",
        "        x = x.view(-1, 28*28)\n",
        "        x = self.fc1(x)     # 선형 변환\n",
        "        x = self.bn1(x)     # 배치 정규화\n",
        "        x = F.relu(x)\n",
        "        x = self.dropout1(x)# 드롭아웃웃\n",
        "\n",
        "        x = self.fc2(x)\n",
        "        x = self.bn2(x)\n",
        "        x = F.relu(x)\n",
        "        x = self.dropout2(x)\n",
        "\n",
        "        x = self.fc3(x)\n",
        "        return x"
      ]
    },
    {
      "cell_type": "markdown",
      "id": "1f7890b1",
      "metadata": {
        "id": "1f7890b1"
      },
      "source": [
        "**<span style=\"color:red\"> 4. </span>** 모델을 만들고, 사용할 optimizer를 골라줍니다. optimizer별 차이를 보고 싶으시다면, 원하는 optimizer를 선택하시면 됩니다!"
      ]
    },
    {
      "cell_type": "code",
      "execution_count": null,
      "id": "925f3f1c",
      "metadata": {
        "id": "925f3f1c"
      },
      "outputs": [],
      "source": [
        "model = SimpleFNN()\n",
        "\n",
        "optimizer_type = 'sgd'  # 'sgd', 'momentum', 'adam'\n",
        "\n",
        "# 옵티마이저 선택\n",
        "if optimizer_type == 'sgd':\n",
        "    optimizer = optim.SGD(model.parameters(), lr=learning_rate)\n",
        "elif optimizer_type == 'momentum':\n",
        "    optimizer = optim.SGD(model.parameters(), lr=learning_rate, momentum=0.9)\n",
        "elif optimizer_type == 'adam':\n",
        "    optimizer = optim.Adam(model.parameters(), lr=learning_rate)\n",
        "\n",
        "criterion = nn.CrossEntropyLoss()"
      ]
    },
    {
      "cell_type": "markdown",
      "id": "62f323c4",
      "metadata": {
        "id": "62f323c4"
      },
      "source": [
        "**<span style=\"color:red\"> 5. </span>** 학습을 진행합니다."
      ]
    },
    {
      "cell_type": "code",
      "execution_count": null,
      "id": "e9470bcd",
      "metadata": {
        "colab": {
          "base_uri": "https://localhost:8080/"
        },
        "id": "e9470bcd",
        "outputId": "686bce3c-a5cf-4ee9-be7e-ae30ddd1a61b",
        "tags": [
          "pdf-ignore"
        ]
      },
      "outputs": [
        {
          "output_type": "stream",
          "name": "stdout",
          "text": [
            "Epoch 1, Loss: 0.8391\n",
            "Epoch 2, Loss: 0.4392\n",
            "Epoch 3, Loss: 0.3693\n",
            "Epoch 4, Loss: 0.3316\n",
            "Epoch 5, Loss: 0.2977\n"
          ]
        }
      ],
      "source": [
        "# 학습\n",
        "for epoch in range(num_epochs):\n",
        "    model.train()\n",
        "    total_loss = 0\n",
        "    for data, target in train_loader:\n",
        "        optimizer.zero_grad()\n",
        "        output = model(data)\n",
        "        loss = criterion(output, target)\n",
        "        loss.backward()\n",
        "        optimizer.step()\n",
        "        total_loss += loss.item()\n",
        "    print(f'Epoch {epoch+1}, Loss: {total_loss / len(train_loader):.4f}')"
      ]
    },
    {
      "cell_type": "markdown",
      "id": "3e82b91c",
      "metadata": {
        "id": "3e82b91c"
      },
      "source": [
        "**<span style=\"color:red\">  </span>**  학습을 거듭할수록 loss가 줄어드는게 보입니다."
      ]
    },
    {
      "cell_type": "markdown",
      "id": "edf5f7e5",
      "metadata": {
        "id": "edf5f7e5"
      },
      "source": [
        "**<span style=\"color:red\"> 6. </span>** 테스트 데이터를 통해 모델이 어느정도 성능이 나오는지 측정해봅시다."
      ]
    },
    {
      "cell_type": "code",
      "execution_count": null,
      "id": "35c20ff7",
      "metadata": {
        "id": "35c20ff7",
        "outputId": "febeaa25-ab70-4548-c61c-f2b2c86e4b14",
        "colab": {
          "base_uri": "https://localhost:8080/"
        }
      },
      "outputs": [
        {
          "output_type": "stream",
          "name": "stdout",
          "text": [
            "Test Accuracy: 95.47%\n"
          ]
        }
      ],
      "source": [
        "# 테스트 정확도\n",
        "model.eval()\n",
        "correct = 0\n",
        "total = 0\n",
        "with torch.no_grad():\n",
        "    for data, target in test_loader:\n",
        "        output = model(data)\n",
        "        pred = output.argmax(dim=1)\n",
        "        correct += (pred == target).sum().item()\n",
        "        total += target.size(0)\n",
        "\n",
        "print(f'Test Accuracy: {100 * correct / total:.2f}%')"
      ]
    },
    {
      "cell_type": "markdown",
      "id": "21e39fe8",
      "metadata": {
        "id": "21e39fe8"
      },
      "source": [
        "흑백의 간단한 이미지라 정확도가 꽤 괜찮게 나옵니다. 아마 sgd나 adam이나 어떤 optimizer를 사용해도 정확도는 비슷할겁니다."
      ]
    },
    {
      "cell_type": "markdown",
      "id": "98c3c86e",
      "metadata": {
        "id": "98c3c86e"
      },
      "source": [
        "**<span style=\"color:red\"> 7. </span>** 테스트 한 데이터들을 시각화 하기 위한 함수를 정의합니다."
      ]
    },
    {
      "cell_type": "code",
      "execution_count": null,
      "id": "352fceb0",
      "metadata": {
        "id": "352fceb0"
      },
      "outputs": [],
      "source": [
        "def visualize_random_predictions(model, test_loader, num_images=10):\n",
        "    model.eval()\n",
        "\n",
        "    # 모든 이미지와 레이블을 리스트에 모으기\n",
        "    all_images = []\n",
        "    all_labels = []\n",
        "\n",
        "    with torch.no_grad():\n",
        "        for images, labels in test_loader:\n",
        "            all_images.append(images)\n",
        "            all_labels.append(labels)\n",
        "\n",
        "        # 하나로 합치기\n",
        "        all_images = torch.cat(all_images)\n",
        "        all_labels = torch.cat(all_labels)\n",
        "\n",
        "        # 랜덤 인덱스 선택\n",
        "        indices = random.sample(range(len(all_images)), num_images)\n",
        "\n",
        "        outputs = model(all_images)\n",
        "        _, predicted = torch.max(outputs, 1)\n",
        "\n",
        "        plt.figure(figsize=(15, 2))\n",
        "        for i, idx in enumerate(indices):\n",
        "            img = all_images[idx].numpy().squeeze()\n",
        "            true_label = all_labels[idx].item()\n",
        "            pred_label = predicted[idx].item()\n",
        "\n",
        "            plt.subplot(1, num_images, i + 1)\n",
        "            plt.imshow(img, cmap='gray')\n",
        "            color = 'green' if pred_label == true_label else 'red'\n",
        "            plt.title(f'P:{pred_label}\\nT:{true_label}', color=color)\n",
        "            plt.axis('off')"
      ]
    },
    {
      "cell_type": "markdown",
      "id": "98d6d159",
      "metadata": {
        "id": "98d6d159"
      },
      "source": [
        "**<span style=\"color:red\"> 8. </span>** 여러번 누르면서 결과를 확인해보세요!"
      ]
    },
    {
      "cell_type": "code",
      "execution_count": null,
      "id": "d1be5b1e",
      "metadata": {
        "id": "d1be5b1e",
        "outputId": "b9425565-d4df-4b08-e95e-9623ad9ca27b",
        "colab": {
          "base_uri": "https://localhost:8080/",
          "height": 213
        }
      },
      "outputs": [
        {
          "output_type": "display_data",
          "data": {
            "text/plain": [
              "<Figure size 1500x200 with 10 Axes>"
            ],
            "image/png": "[encoded data removed]"
          },
          "metadata": {}
        }
      ],
      "source": [
        "visualize_random_predictions(model, test_loader, num_images=10)\n",
        "plt.tight_layout()\n",
        "plt.show()"
      ]
    },
    {
      "cell_type": "markdown",
      "id": "3fb5b8ef",
      "metadata": {
        "id": "3fb5b8ef"
      },
      "source": [
        "분류가 잘 된 것과 잘 안된 것들을 비교해 봅시다"
      ]
    },
    {
      "cell_type": "markdown",
      "id": "ccd09673",
      "metadata": {
        "id": "ccd09673"
      },
      "source": [
        "## 5주차 과제 끝!\n",
        "5주차 과제는 여기까지 입니다!\n",
        "\n",
        "모두들 수고 많으셨습니다!"
      ]
    }
  ],
  "metadata": {
    "accelerator": "GPU",
    "colab": {
      "gpuType": "T4",
      "provenance": [],
      "include_colab_link": true
    },
    "kernelspec": {
      "display_name": "Python 3",
      "name": "python3"
    },
    "language_info": {
      "codemirror_mode": {
        "name": "ipython",
        "version": 3
      },
      "file_extension": ".py",
      "mimetype": "text/x-python",
      "name": "python",
      "nbconvert_exporter": "python",
      "pygments_lexer": "ipython3",
      "version": "3.12.8"
    }
  },
  "nbformat": 4,
  "nbformat_minor": 5
}