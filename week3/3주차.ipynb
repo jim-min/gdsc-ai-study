{
  "cells": [
    {
      "cell_type": "markdown",
      "metadata": {
        "id": "view-in-github",
        "colab_type": "text"
      },
      "source": [
        "<a href=\"https://colab.research.google.com/github/jim-min/gdsc-ai-study/blob/main/week3/3%EC%A3%BC%EC%B0%A8.ipynb\" target=\"_parent\"><img src=\"https://colab.research.google.com/assets/colab-badge.svg\" alt=\"Open In Colab\"/></a>"
      ]
    },
    {
      "cell_type": "markdown",
      "id": "92445c44",
      "metadata": {
        "id": "92445c44"
      },
      "source": [
        "# **GDG 인공지능 기초 3주차 과제**\n",
        "이번 주차 과제도 퀴즈와 실습으로 구성되어있습니다."
      ]
    },
    {
      "cell_type": "markdown",
      "id": "1b6d08db",
      "metadata": {
        "id": "1b6d08db"
      },
      "source": [
        "## **<span style=\"color:green\"> [ 퀴즈 ] </span>**"
      ]
    },
    {
      "cell_type": "markdown",
      "id": "060a465c",
      "metadata": {
        "id": "060a465c"
      },
      "source": [
        "##### 단층 퍼셉트론으로 xor문제를 구현할 수 없다고 이야기 했었는데, 그렇다면 층을 어떻게 구성해야 xor 문제를 표현할 수 있을까요?"
      ]
    },
    {
      "cell_type": "markdown",
      "id": "a4630084",
      "metadata": {
        "id": "a4630084"
      },
      "source": [
        "① 입력층 - 출력층  \n",
        "② 입력층 - 은닉층(노드 2개) - 출력층 (활성화 함수 x)  \n",
        "③ 입력층 - 은닉층(노드 2개) - 출력층 (각 층에 시그모이드 함수)  \n",
        "④ 입력층 - 은닉층(노드 10개) - 출력층 (각 층에 계단 함수)  "
      ]
    },
    {
      "cell_type": "markdown",
      "id": "02c21a22",
      "metadata": {
        "id": "02c21a22"
      },
      "source": [
        "정답과 그 이유를 간단히 작성해주세요!"
      ]
    },
    {
      "cell_type": "markdown",
      "id": "4cd65197",
      "metadata": {
        "id": "4cd65197"
      },
      "source": [
        "③\\\n",
        "직관적으로 논리회로에서 XOR 게이트를 만들기 위해선\\\n",
        "두 비트를 각각 AND와 NOR을 거치게 한 후, 두 결과값의 OR을 해야 한다\n",
        "\n",
        "그렇다면, 은닉층의 두 노드에 각각 AND NOR을 넣고 OR 연산한 걸 출력하면 된다고 생각할 수 있다.\n",
        "\n",
        "연산이 활성화 함수를 필요로 할 것이니 시그모이드 함수를 활용하면 될 것이다.\n",
        "\n",
        "노드가 뭐 10개면 계단 함수로도 될 것 같지만 답은 3이 적당할 듯하다."
      ]
    },
    {
      "cell_type": "code",
      "source": [
        "import torch\n",
        "import torch.nn as nn\n",
        "import torch.optim as optim\n",
        "\n",
        "# 1. XOR 데이터\n",
        "X = torch.tensor([[0,0],[0,1],[1,0],[1,1]], dtype=torch.float32)\n",
        "Y = torch.tensor([[0],[1],[1],[0]], dtype=torch.float32)\n",
        "\n",
        "# 2. 모델 정의 (2-2-1 구조 MLP)\n",
        "class XORNet(nn.Module):\n",
        "    def __init__(self):\n",
        "        super(XORNet, self).__init__()\n",
        "        self.hidden = nn.Linear(2, 2)       # 은닉층: 2 input → 2 output\n",
        "        self.output = nn.Linear(2, 1)       # 출력층: 2 input → 1 output\n",
        "        self.sigmoid = nn.Sigmoid()\n",
        "\n",
        "    def forward(self, x):\n",
        "        x = self.sigmoid(self.hidden(x))\n",
        "        x = self.sigmoid(self.output(x))\n",
        "        return x\n",
        "\n",
        "model = XORNet()\n",
        "\n",
        "# 3. 손실 함수와 옵티마이저\n",
        "criterion = nn.BCELoss()                       # Binary Cross Entropy\n",
        "optimizer = optim.SGD(model.parameters(), lr=0.1)\n",
        "\n",
        "# 4. 학습 루프\n",
        "for epoch in range(10000):\n",
        "    optimizer.zero_grad()\n",
        "    output = model(X)\n",
        "    loss = criterion(output, Y)\n",
        "    loss.backward()\n",
        "    optimizer.step()\n",
        "\n",
        "    if epoch % 1000 == 0:\n",
        "        print(f'Epoch {epoch}, Loss: {loss.item():.4f}')\n",
        "\n",
        "# 5. 결과 확인\n",
        "with torch.no_grad():\n",
        "    output = model(X)\n",
        "    predicted = (output > 0.5).float()\n",
        "    print(\"\\n예측 결과:\")\n",
        "    for i in range(4):\n",
        "        print(f\"입력: {X[i].tolist()}, 예측: {predicted[i].item()}, 정답: {Y[i].item()}\")\n"
      ],
      "metadata": {
        "colab": {
          "base_uri": "https://localhost:8080/"
        },
        "id": "8nJSrnW7GtDu",
        "outputId": "b68dd347-83e1-4c49-cca8-2d6623722279"
      },
      "id": "8nJSrnW7GtDu",
      "execution_count": null,
      "outputs": [
        {
          "output_type": "stream",
          "name": "stdout",
          "text": [
            "Epoch 0, Loss: 0.7530\n",
            "Epoch 1000, Loss: 0.6932\n",
            "Epoch 2000, Loss: 0.6930\n",
            "Epoch 3000, Loss: 0.6926\n",
            "Epoch 4000, Loss: 0.6899\n",
            "Epoch 5000, Loss: 0.6539\n",
            "Epoch 6000, Loss: 0.5148\n",
            "Epoch 7000, Loss: 0.4199\n",
            "Epoch 8000, Loss: 0.3860\n",
            "Epoch 9000, Loss: 0.3722\n",
            "\n",
            "예측 결과:\n",
            "입력: [0.0, 0.0], 예측: 0.0, 정답: 0.0\n",
            "입력: [0.0, 1.0], 예측: 1.0, 정답: 1.0\n",
            "입력: [1.0, 0.0], 예측: 0.0, 정답: 1.0\n",
            "입력: [1.0, 1.0], 예측: 1.0, 정답: 0.0\n"
          ]
        }
      ]
    },
    {
      "cell_type": "markdown",
      "id": "bfa6f75c",
      "metadata": {
        "id": "bfa6f75c"
      },
      "source": [
        "## **<span style=\"color:green\"> [ 실습 ] </span> 역전파 계산**\n",
        "코드를 통해 이전에 했던 역전파 계산을 수행 해보겠습니다.\n"
      ]
    },
    {
      "cell_type": "markdown",
      "id": "e259302b",
      "metadata": {
        "id": "e259302b"
      },
      "source": [
        "**<span style=\"color:red\"> 1. </span>** 연산에 쓸 모듈과 함수를 정의합니다."
      ]
    },
    {
      "cell_type": "code",
      "execution_count": null,
      "id": "705aa099",
      "metadata": {
        "id": "705aa099"
      },
      "outputs": [],
      "source": [
        "import math\n",
        "\n",
        "# 시그모이드 함수와 그 도함수\n",
        "def sigmoid(x):\n",
        "    return 1 / (1 + math.exp(-x))\n",
        "\n",
        "def sigmoid_derivative(x):\n",
        "    sx = sigmoid(x)\n",
        "    return sx * (1 - sx)"
      ]
    },
    {
      "cell_type": "markdown",
      "id": "140dd5a6",
      "metadata": {
        "id": "140dd5a6"
      },
      "source": [
        "**<span style=\"color:red\"> 2. </span>** 사용할 데이터와, 초기 가중치를 초기화 해줍니다. 강의록에 있던 값을 그대로 쓰되, 편향(b)값을 추가해서 학습해보겠습니다."
      ]
    },
    {
      "cell_type": "code",
      "execution_count": null,
      "id": "a6c00d93",
      "metadata": {
        "id": "a6c00d93"
      },
      "outputs": [],
      "source": [
        "data = [\n",
        "    ([0.3, 0.2], 0.3)\n",
        "]"
      ]
    },
    {
      "cell_type": "code",
      "execution_count": null,
      "id": "97f07c69",
      "metadata": {
        "id": "97f07c69"
      },
      "outputs": [],
      "source": [
        "# 가중치 초기화\n",
        "W1 = [[0.3, 0.25],  # 은닉층 노드1의 가중치\n",
        "      [0.5, 0.15]]  # 은닉층 노드2의 가중치\n",
        "b1 = [0.2, 0.1]     # 은닉층 바이어스\n",
        "\n",
        "W2 = [0.35, 0.6]     # 출력층 노드의 가중치\n",
        "b2 = 0.0             # 출력층 바이어스\n",
        "\n",
        "# 학습률\n",
        "lr = 0.1"
      ]
    },
    {
      "cell_type": "markdown",
      "id": "f14b2146",
      "metadata": {
        "id": "f14b2146"
      },
      "source": [
        "**<span style=\"color:red\"> 3. </span>** 여러번 계산을 하기 위해 forward 연산과 backward연산을 함수로 정의하겠습니다."
      ]
    },
    {
      "cell_type": "code",
      "execution_count": null,
      "id": "40e068ed",
      "metadata": {
        "id": "40e068ed",
        "tags": [
          "pdf-ignore"
        ]
      },
      "outputs": [],
      "source": [
        "# Forward pass\n",
        "def forward(x):\n",
        "    s1 = W1[0][0]*x[0] + W1[0][1]*x[1] + b1[0]  # 첫 번째 노드 계산\n",
        "    s2 = W1[1][0]*x[0] + W1[1][1]*x[1] + b1[1]  # 두 번째 노드 계산\n",
        "    h1 = sigmoid(s1)\n",
        "    h2 = sigmoid(s2)\n",
        "\n",
        "    s3 = W2[0]*h1 + W2[1]*h2 + b2\n",
        "    h3 = sigmoid(s3)\n",
        "\n",
        "    return (s1, s2, h1, h2, s3, h3)"
      ]
    },
    {
      "cell_type": "code",
      "execution_count": null,
      "id": "925f3f1c",
      "metadata": {
        "id": "925f3f1c"
      },
      "outputs": [],
      "source": [
        "# Backward pass\n",
        "def backward(x, y, s1, s2, h1, h2, s3, h3):\n",
        "    global W1, W2, b1, b2\n",
        "\n",
        "    # 출력층 오차 및 가중치 업데이트\n",
        "\n",
        "    dL_dh3 = 2 * (h3 - y)               # MSE 미분\n",
        "    dh3_ds3 = sigmoid_derivative(h3)    # 시그모이드 미분\n",
        "    ds3_dW2 = [h1, h2]                  # f(x) = wx + b 를 w에 대해 미분\n",
        "                                        # 세 값을 모두 곱하면 dL_dW\n",
        "\n",
        "    # 가중치 업데이트\n",
        "    for i in range(2):\n",
        "        W2[i] -= lr * dL_dh3 * dh3_ds3 * ds3_dW2[i]\n",
        "    b2 -= lr * dL_dh3 * dh3_ds3\n",
        "\n",
        "    # 은닉층 오차 및 가중치 업데이트\n",
        "    for i in range(2):\n",
        "        ds3_dh = W2[i]\n",
        "        dh_ds = sigmoid_derivative(s1 if i == 0 else s2)\n",
        "        ds_dw1 = [x[0], x[1]]\n",
        "        for j in range(2):\n",
        "            W1[i][j] -= lr * dL_dh3 * dh3_ds3 * ds3_dh * dh_ds * ds_dw1[j]\n",
        "        b1[i] -= lr * dL_dh3 * dh3_ds3 * ds3_dh * dh_ds"
      ]
    },
    {
      "cell_type": "markdown",
      "id": "62f323c4",
      "metadata": {
        "id": "62f323c4"
      },
      "source": [
        "**<span style=\"color:red\"> 4. </span>** 실제로 여러번 학습을 하며 값이 원하는 정답과 가까워 지는 것, 오차가 줄어드는 것을 확인해봅시다."
      ]
    },
    {
      "cell_type": "code",
      "execution_count": null,
      "id": "e9470bcd",
      "metadata": {
        "colab": {
          "base_uri": "https://localhost:8080/"
        },
        "id": "e9470bcd",
        "outputId": "51c78524-34fd-40c5-8e8f-9a2cb522bd93",
        "tags": [
          "pdf-ignore"
        ]
      },
      "outputs": [
        {
          "output_type": "stream",
          "name": "stdout",
          "text": [
            "Epoch 0, 예측: 0.6333, Loss: 0.1111\n",
            "Epoch 10, 예측: 0.5767, Loss: 0.0766\n",
            "Epoch 20, 예측: 0.5281, Loss: 0.0520\n",
            "Epoch 30, 예측: 0.4874, Loss: 0.0351\n",
            "Epoch 40, 예측: 0.4539, Loss: 0.0237\n",
            "Epoch 50, 예측: 0.4266, Loss: 0.0160\n",
            "Epoch 60, 예측: 0.4043, Loss: 0.0109\n",
            "Epoch 70, 예측: 0.3862, Loss: 0.0074\n",
            "Epoch 80, 예측: 0.3714, Loss: 0.0051\n",
            "Epoch 90, 예측: 0.3593, Loss: 0.0035\n"
          ]
        }
      ],
      "source": [
        "# 학습 루프\n",
        "for epoch in range(100):\n",
        "    total_loss = 0\n",
        "    for x, y in data:\n",
        "        s1, s2, h1, h2, s3, out = forward(x)\n",
        "        loss = (out - y)**2\n",
        "        total_loss += loss\n",
        "        backward(x, y, s1, s2, h1, h2, s3, out)\n",
        "    if epoch % 10 == 0:\n",
        "        print(f\"Epoch {epoch}, 예측: {out:.4f}, Loss: {total_loss:.4f}\")"
      ]
    },
    {
      "cell_type": "markdown",
      "id": "3e82b91c",
      "metadata": {
        "id": "3e82b91c"
      },
      "source": [
        "**<span style=\"color:red\">  </span>**  학습을 거듭할수록 예측값이 점점 정답에 가까워 지는 것이 보이시나요???"
      ]
    },
    {
      "cell_type": "markdown",
      "id": "edf5f7e5",
      "metadata": {
        "id": "edf5f7e5"
      },
      "source": [
        "**<span style=\"color:red\"> 5. </span>** 더 많이 해서 정답이 나올 때 까지 해봅시다"
      ]
    },
    {
      "cell_type": "code",
      "execution_count": null,
      "id": "35c20ff7",
      "metadata": {
        "colab": {
          "base_uri": "https://localhost:8080/"
        },
        "id": "35c20ff7",
        "outputId": "5b9743ad-e312-482a-c15b-15e4001056ed"
      },
      "outputs": [
        {
          "output_type": "stream",
          "name": "stdout",
          "text": [
            "\n",
            "=== 테스트 결과 ===\n",
            "입력: [0.3, 0.2], 예측: 0.3000, 정답: 0.3\n"
          ]
        }
      ],
      "source": [
        "# 학습 루프\n",
        "for epoch in range(1000):\n",
        "    total_loss = 0\n",
        "    for x, y in data:\n",
        "        s1, s2, h1, h2, s3, out = forward(x)\n",
        "        loss = (out - y)**2\n",
        "        total_loss += loss\n",
        "        backward(x, y, s1, s2, h1, h2, s3, out)\n",
        "\n",
        "# 테스트\n",
        "print(\"\\n=== 테스트 결과 ===\")\n",
        "for x, y in data:\n",
        "    _, _, _, _, _, out = forward(x)\n",
        "    print(f\"입력: {x}, 예측: {out:.4f}, 정답: {y}\")"
      ]
    },
    {
      "cell_type": "markdown",
      "id": "ccd09673",
      "metadata": {
        "id": "ccd09673"
      },
      "source": [
        "## 3주차 과제 끝!\n",
        "3주차 과제는 여기까지 입니다!\n",
        "\n",
        "수업 중 이해가 안가거나 어려웠던 부분, 수업에 관한 피드백을 적어주시면 다음 주차 강의에 적극적으로 반영하겠습니다!"
      ]
    }
  ],
  "metadata": {
    "accelerator": "GPU",
    "colab": {
      "gpuType": "T4",
      "provenance": [],
      "include_colab_link": true
    },
    "kernelspec": {
      "display_name": "Python 3",
      "name": "python3"
    },
    "language_info": {
      "codemirror_mode": {
        "name": "ipython",
        "version": 3
      },
      "file_extension": ".py",
      "mimetype": "text/x-python",
      "name": "python",
      "nbconvert_exporter": "python",
      "pygments_lexer": "ipython3",
      "version": "3.11.2"
    }
  },
  "nbformat": 4,
  "nbformat_minor": 5
}